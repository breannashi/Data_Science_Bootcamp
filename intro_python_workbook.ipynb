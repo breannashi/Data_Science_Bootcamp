{
  "nbformat": 4,
  "nbformat_minor": 0,
  "metadata": {
    "colab": {
      "provenance": [],
      "include_colab_link": true
    },
    "kernelspec": {
      "name": "python3",
      "display_name": "Python 3"
    },
    "language_info": {
      "name": "python"
    }
  },
  "cells": [
    {
      "cell_type": "markdown",
      "metadata": {
        "id": "view-in-github",
        "colab_type": "text"
      },
      "source": [
        "<a href=\"https://colab.research.google.com/github/breannashi/Data_Science_Bootcamp/blob/main/intro_python_workbook.ipynb\" target=\"_parent\"><img src=\"https://colab.research.google.com/assets/colab-badge.svg\" alt=\"Open In Colab\"/></a>"
      ]
    },
    {
      "cell_type": "markdown",
      "source": [
        "##Introduction to Python"
      ],
      "metadata": {
        "id": "QxTMx1XMYlXK"
      }
    },
    {
      "cell_type": "markdown",
      "source": [
        "This tutorial will introduce you to the basics of python and its significance in bioinformatics field."
      ],
      "metadata": {
        "id": "nw1sAjjhY1bD"
      }
    },
    {
      "cell_type": "markdown",
      "source": [
        "# 1. Python Objects"
      ],
      "metadata": {
        "id": "LzZTJAg1Y53H"
      }
    },
    {
      "cell_type": "markdown",
      "source": [
        "There are many different types of objects in python. Some we will use are:\n",
        "\n",
        "Strings\n",
        "* A collection of letters or words, like the sentence \"I have 2 cats\". They are marked with \"\", and cannot be used in equations\n",
        "\n",
        "Integers\n",
        "* Numbers that don't have decimals. Can be used in equations\n",
        "\n",
        "Floats\n",
        "* Numbers with decimals, can be used in equations\n",
        "\n",
        "You can sometimes switch in between different object types. For example, if you have the string, \"3\", you can convert it to an integer using the int() function. Well get more into functions later.\n",
        "\n"
      ],
      "metadata": {
        "id": "dvEhUw3FZWfR"
      }
    },
    {
      "cell_type": "markdown",
      "source": [
        "# 2. Python Data Structures \n",
        "\n",
        "The Data structures in python are most fundamental yet crucial concept in manipulating the Datasets.A data structure is a term used in computer science to describe a type of \"data container\". They are used to store multiples of (usually) the same type of data and provide certain accessor functions to extract the data from the container. Some of the common data structures present in python are:\n",
        "\n",
        "i) Lists : They contain the data in ordered form. They are used to store multiple items in a single variable and also, mutable i.e they elements can be changed and new elements can be added to a pre-existing list. They can be accessed by list() function and the square brackets'[]' create a list. \n",
        "Example: [1, 2, 3, 4, 5]\n",
        "\n",
        "ii) Tuples : They contain the data in data in ordered form and are used to store multiple items in a single variable but unlike lists, they are immutable i.e. the elements cannot be changed and new elements cannot be added to a pre-existing tuple. They can be accessed by tuple() function and the round brackets '()' create a tuple.\n",
        "Example: (1, 2, 3, 4, 5)\n",
        "\n",
        "iii) Dictionaries: Dictionaries are used to store data values in key:value pairs.The elements are ordered, changeable and do not allow duplicates. They can be accessed by dict() function and the curly brackets '{}' create a dictionary.\n",
        "Example: {1, 2, 3, 4, 5}\n"
      ],
      "metadata": {
        "id": "hsnL9wfEdgHy"
      }
    },
    {
      "cell_type": "code",
      "source": [],
      "metadata": {
        "id": "9iLdSYBFZp9W"
      },
      "execution_count": null,
      "outputs": []
    }
  ]
}