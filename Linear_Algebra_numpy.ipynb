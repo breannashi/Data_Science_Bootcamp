{
  "nbformat": 4,
  "nbformat_minor": 0,
  "metadata": {
    "colab": {
      "provenance": [],
      "include_colab_link": true
    },
    "kernelspec": {
      "name": "python3",
      "display_name": "Python 3"
    },
    "language_info": {
      "name": "python"
    }
  },
  "cells": [
    {
      "cell_type": "markdown",
      "metadata": {
        "id": "view-in-github",
        "colab_type": "text"
      },
      "source": [
        "<a href=\"https://colab.research.google.com/github/breannashi/Data_Science_Bootcamp/blob/linalg-numpy/Linear_Algebra_numpy.ipynb\" target=\"_parent\"><img src=\"https://colab.research.google.com/assets/colab-badge.svg\" alt=\"Open In Colab\"/></a>"
      ]
    },
    {
      "cell_type": "markdown",
      "source": [
        "So you want to create and manipulate n-dimensional arrays? You've come to the right place!\n",
        "\n",
        "First, make sure you have NumPy installed, and import the package (we use the alias 'np')."
      ],
      "metadata": {
        "id": "T5vDjyU5hCjZ"
      }
    },
    {
      "cell_type": "code",
      "source": [
        "#import NumPy\n",
        "import numpy as np"
      ],
      "metadata": {
        "id": "icQZi36Rhljh"
      },
      "execution_count": null,
      "outputs": []
    },
    {
      "cell_type": "markdown",
      "source": [
        "First we'll go over some basics about NumPy, you can skip this if you are familiar with the package."
      ],
      "metadata": {
        "id": "xPrZshLBhmV9"
      }
    },
    {
      "cell_type": "code",
      "source": [
        "#create a 1-dimensional array using the .array() function\n",
        "one_dim = np.array([1, 2, 3])\n",
        "print(\"One dimension:\\n\",one_dim)\n",
        "\n",
        "#create a 4-dimensional array using the .array() function\n",
        "four_dim = np.array([[[[1,2,3,4],[1,2,3,4]],\n",
        "                     [[1,2,3,4],[1,2,3,4]]],\n",
        "                    [[[1,2,3,4],[1,2,3,4]],\n",
        "                     [[1,2,3,4],[1,2,3,4]]]])\n",
        "print(\"\\nFour dimensions:\\n\",four_dim)"
      ],
      "metadata": {
        "id": "cbf24zech_UD"
      },
      "execution_count": null,
      "outputs": []
    },
    {
      "cell_type": "markdown",
      "source": [
        "You can see that by creating lists of lists (or tuples of tuples, for that matter) you can create an array of whatever dimensionality you'd like!\n",
        "\n",
        "You can also use .reshape() to change the dimensionality of an array:"
      ],
      "metadata": {
        "id": "tCLta5Laz-cv"
      }
    },
    {
      "cell_type": "code",
      "source": [
        "num_list = []\n",
        "i = 1\n",
        "\n",
        "while i < 101:\n",
        "  num_list.append(i)\n",
        "  i += 1\n",
        "\n",
        "three_dim = np.array(num_list).reshape(10,10)\n",
        "print(\"An array with 10 rows and 10 columns:\\n\", three_dim)"
      ],
      "metadata": {
        "id": "ATabvGmr0ACa"
      },
      "execution_count": null,
      "outputs": []
    },
    {
      "cell_type": "markdown",
      "source": [
        "Next, we'll discuss some mathematics using (r, g, b) colors. Feel free to Google the color if you need help visualizing."
      ],
      "metadata": {
        "id": "nPhDYxd9mSHc"
      }
    },
    {
      "cell_type": "code",
      "execution_count": null,
      "metadata": {
        "id": "zLchRIOBVIwA"
      },
      "outputs": [],
      "source": [
        "colors = np.array([[255, 0, 0],       # red\n",
        "              [0, 255, 0],       # green\n",
        "              [0, 0, 255]])      # blue\n",
        "\n",
        "red = colors[0]\n",
        "green = colors[1]\n",
        "blue = colors[2]"
      ]
    },
    {
      "cell_type": "markdown",
      "source": [
        "Here you can see how to call specific rows of the array, and that those rows can be added or subtracted from each other:"
      ],
      "metadata": {
        "id": "xrXDW4r92c1z"
      }
    },
    {
      "cell_type": "code",
      "source": [
        "white = red + blue + green\n",
        "print(\"Adding the rows together:\\n\",white)\n",
        "\n",
        "black = white - white\n",
        "print(\"\\nSubtracting white from itself:\\n\",black)"
      ],
      "metadata": {
        "id": "DMvndMMgVyqQ"
      },
      "execution_count": null,
      "outputs": []
    },
    {
      "cell_type": "markdown",
      "source": [
        "Run this segment to demonstrate multiplication in NumPy:"
      ],
      "metadata": {
        "id": "86byYuU8rQWC"
      }
    },
    {
      "cell_type": "code",
      "source": [
        "unknown_color = red * blue\n",
        "print(unknown_color)\n",
        "print('\\nWe see that multiplication occurs itemwise when using the * function.\\nLet\\'s add some colors to get rid of those zeros...\\n\\n')\n",
        "\n",
        "colors = np.append(colors, [255,100,100])  #Salmon\n",
        "colors = np.append(colors, [10, 200, 150]) #Mint \n",
        "colors = np.reshape(colors, (5,3))\n",
        "mint = colors[4]\n",
        "salmon = colors[3]"
      ],
      "metadata": {
        "id": "eGfeOpc3mxnJ"
      },
      "execution_count": null,
      "outputs": []
    },
    {
      "cell_type": "markdown",
      "source": [
        "Let's try multiplication again, using these new colors:"
      ],
      "metadata": {
        "id": "hFtNsmjlrWOr"
      }
    },
    {
      "cell_type": "code",
      "source": [
        "unknown_color = salmon * mint\n",
        "unknown_color//= 100 #Scale to usable magnitude\n",
        "print(unknown_color)\n",
        "\n",
        "print(\"\\nIf you use a color picker to visualize this, you can see the itemwise product is a turquoise color!\")"
      ],
      "metadata": {
        "id": "VpayknsMrap5"
      },
      "execution_count": null,
      "outputs": []
    },
    {
      "cell_type": "markdown",
      "source": [
        "Now, let's work through a problem together:\n",
        "\n",
        "Imagine you are a TA for BIOS 4401, an undergraduate biostats course at Georgia Tech, where a student's grade is entirely based on five midterm exams. The next segment of code wil generate our dataset.\n",
        "\n"
      ],
      "metadata": {
        "id": "4RWkpg74UpHi"
      }
    },
    {
      "cell_type": "code",
      "source": [
        "Young_Hui = [100, 100, 85, 87, 67]\n",
        "Will = [100, 92, 100, 94, 96]\n",
        "Annie = [98, 87, 71, 100, 89]\n",
        "Chinar = [98, 99, 92, 0, 93] \n",
        "Bree = [67, 72, 83, 82, 85]\n",
        "George = [100, 99, 98, 93, 85]\n",
        "\n",
        "stu_names = [\"Young_Hui\", \"Will\", \"Annie\", \"Chinar\", \"Bree\", \"George\"]\n",
        "students = [Young_Hui, Will, Annie, Chinar, Bree, George]"
      ],
      "metadata": {
        "id": "Lb_0vOnnUohh"
      },
      "execution_count": null,
      "outputs": []
    },
    {
      "cell_type": "markdown",
      "source": [
        "Professor McGrath has asked you for several statistics from the course, and you decide to use your knowledge of NumPy to get the job done.You need to determine:\n",
        "\n",
        "*   Each student's average grade,\n",
        "*   Each student's max and min score,\n",
        "*   The class average for each test, and\n",
        "* The course average.\n",
        "\n",
        "\n",
        "\n",
        "\n",
        "Take a second to try each of these before viewing a solution in the next code block."
      ],
      "metadata": {
        "id": "p0ohlSTlAiDO"
      }
    },
    {
      "cell_type": "code",
      "source": [
        "#Make an array of student grades\n",
        "stu_grades = np.array(students)\n",
        "\n",
        "#create a loop over each student\n",
        "i = 0\n",
        "pool_1 = 0\n",
        "pool_2 = 0\n",
        "pool_3 = 0\n",
        "pool_4 = 0\n",
        "pool_5 = 0\n",
        "\n",
        "for each in students:\n",
        "  \n",
        "  #Get an average from each row, iterativly, with .mean()\n",
        "  temp_avg = stu_grades[i].mean()\n",
        "  print(str(stu_names[i]) + \"'s average: \" + str(temp_avg))\n",
        "  \n",
        "  #Get max value using .max() and min value from .min()\n",
        "  temp_max = stu_grades[i].max()\n",
        "  print(str(stu_names[i]) + \"'s max score: \" + str(temp_max))\n",
        "  temp_min = stu_grades[i].min()\n",
        "  print(str(stu_names[i]) + \"'s min score: \" + str(temp_min))\n",
        "  \n",
        "  #Get test average data\n",
        "  pool_1 += stu_grades[i][0]\n",
        "  pool_2 += stu_grades[i][1]\n",
        "  pool_3 += stu_grades[i][2]\n",
        "  pool_4 += stu_grades[i][3]\n",
        "  pool_5 += stu_grades[i][4]\n",
        "  tot_pool = pool_1 + pool_2 + pool_3 + pool_4 + pool_5\n",
        "  print(\"\\n\")\n",
        "\n",
        "  i += 1\n",
        "print(\"Test 1 average: \" + str(round(pool_1/len(stu_names),2)))\n",
        "print(\"Test 2 average: \" + str(round(pool_2/len(stu_names),2)))\n",
        "print(\"Test 3 average: \" + str(round(pool_3/len(stu_names),2)))\n",
        "print(\"Test 4 average: \" + str(round(pool_4/len(stu_names),2)))\n",
        "print(\"Test 5 average: \" + str(round(pool_5/len(stu_names),2)))\n",
        "print(\"\\n\")\n",
        "\n",
        "print(\"Course average: \" + str(round(tot_pool/(len(stu_names)*5),2)))\n"
      ],
      "metadata": {
        "id": "KCad1KKWB4Dv"
      },
      "execution_count": null,
      "outputs": []
    },
    {
      "cell_type": "code",
      "source": [
        "example_array = np.array([[1,2,3],[4,0,6],[7,8,9]])\n",
        "\n",
        "Indexing an array\n",
        "example_array[1,1]\n",
        "\n",
        "Slicing an array [row,column]\n",
        "example_array[:, 0] # all rows of 0th column\n",
        "\n"
      ],
      "metadata": {
        "id": "DzS5h4z2CU7R"
      },
      "execution_count": null,
      "outputs": []
    }
  ]
}