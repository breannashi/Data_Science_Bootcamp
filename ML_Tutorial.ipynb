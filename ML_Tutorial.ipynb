{
  "nbformat": 4,
  "nbformat_minor": 0,
  "metadata": {
    "colab": {
      "provenance": [],
      "toc_visible": true,
      "include_colab_link": true
    },
    "kernelspec": {
      "name": "python3",
      "display_name": "Python 3"
    },
    "language_info": {
      "name": "python"
    },
    "gpuClass": "standard"
  },
  "cells": [
    {
      "cell_type": "markdown",
      "metadata": {
        "id": "view-in-github",
        "colab_type": "text"
      },
      "source": [
        "<a href=\"https://colab.research.google.com/github/breannashi/Data_Science_Bootcamp/blob/ml-tutorial/ML_Tutorial.ipynb\" target=\"_parent\"><img src=\"https://colab.research.google.com/assets/colab-badge.svg\" alt=\"Open In Colab\"/></a>"
      ]
    },
    {
      "cell_type": "markdown",
      "source": [
        "## Machine Learning Tutorial - Bioinformatics Bootcamp 2022\n"
      ],
      "metadata": {
        "id": "10fh4XDLm1se"
      }
    },
    {
      "cell_type": "markdown",
      "source": [
        "## 1.&nbsp;Prerequisite Knowledge and Table of Contents\n",
        "\n",
        "This course focuses on a machine learning tutorial for people working in bioinformatics. We start with a clean synthetic dataset and apply statistical models in clustering, regression, and classification with sklearn. This tutorial assumes a working knowledge of Python programming, linear algebra with NumPy, and Pandas for data analysis - especially the first two.\n",
        "\n",
        "\n"
      ],
      "metadata": {
        "id": "2cByvZeUobP8"
      }
    },
    {
      "cell_type": "markdown",
      "source": [
        "##2.&nbsp;Setting up data and packages\n",
        "\n",
        "\n",
        "The datasets used in this tutorial were found in Kaggle. Kaggle is a website thats useful in finding datasets.\n",
        "\n",
        "For the clustering and classification sections of this tutorial, we will be using the popular iris dataset. You can upload it using the link below but we will use the preloaded one in sklearn.\n",
        "\n",
        "https://www.kaggle.com/datasets/himanshunakrani/iris-dataset?resource=download\n",
        "\n",
        "This dataset gives information about the length and width of the petals and sepals of various iris species. You can use this information to cluster flowers based on these measurements. We can also use this information to classify flowers if the species was unknown.\n",
        "\n",
        "For the regression section of this tutorial, we will be using the crab age prediction dataset, found here:\n",
        "\n",
        "https://www.kaggle.com/datasets/sidhus/crab-age-prediction\n",
        "\n",
        "This dataset has information about crab sex, length, diameter, height, weight, and age. You can use this informaiton to build a regression model to predict a crabs age based on certain parameters given, such as diameter and height.\n",
        "\n",
        "You can use the links above to download these datasets to use in this tutorial.\n"
      ],
      "metadata": {
        "id": "-q5yrsbVutDc"
      }
    },
    {
      "cell_type": "code",
      "source": [
        "#uploading files to colab\n",
        "from google.colab import files\n",
        "uploaded = files.upload()\n",
        "#or use the folder icon on the left"
      ],
      "metadata": {
        "id": "VwZf7uUrpgvB",
        "outputId": "f7804956-152b-4256-ad7d-446792bc118a",
        "colab": {
          "base_uri": "https://localhost:8080/",
          "height": 39
        }
      },
      "execution_count": null,
      "outputs": [
        {
          "output_type": "display_data",
          "data": {
            "text/plain": [
              "<IPython.core.display.HTML object>"
            ],
            "text/html": [
              "\n",
              "     <input type=\"file\" id=\"files-dcac5667-da69-4f1c-82d0-a2e340e8884a\" name=\"files[]\" multiple disabled\n",
              "        style=\"border:none\" />\n",
              "     <output id=\"result-dcac5667-da69-4f1c-82d0-a2e340e8884a\">\n",
              "      Upload widget is only available when the cell has been executed in the\n",
              "      current browser session. Please rerun this cell to enable.\n",
              "      </output>\n",
              "      <script>// Copyright 2017 Google LLC\n",
              "//\n",
              "// Licensed under the Apache License, Version 2.0 (the \"License\");\n",
              "// you may not use this file except in compliance with the License.\n",
              "// You may obtain a copy of the License at\n",
              "//\n",
              "//      http://www.apache.org/licenses/LICENSE-2.0\n",
              "//\n",
              "// Unless required by applicable law or agreed to in writing, software\n",
              "// distributed under the License is distributed on an \"AS IS\" BASIS,\n",
              "// WITHOUT WARRANTIES OR CONDITIONS OF ANY KIND, either express or implied.\n",
              "// See the License for the specific language governing permissions and\n",
              "// limitations under the License.\n",
              "\n",
              "/**\n",
              " * @fileoverview Helpers for google.colab Python module.\n",
              " */\n",
              "(function(scope) {\n",
              "function span(text, styleAttributes = {}) {\n",
              "  const element = document.createElement('span');\n",
              "  element.textContent = text;\n",
              "  for (const key of Object.keys(styleAttributes)) {\n",
              "    element.style[key] = styleAttributes[key];\n",
              "  }\n",
              "  return element;\n",
              "}\n",
              "\n",
              "// Max number of bytes which will be uploaded at a time.\n",
              "const MAX_PAYLOAD_SIZE = 100 * 1024;\n",
              "\n",
              "function _uploadFiles(inputId, outputId) {\n",
              "  const steps = uploadFilesStep(inputId, outputId);\n",
              "  const outputElement = document.getElementById(outputId);\n",
              "  // Cache steps on the outputElement to make it available for the next call\n",
              "  // to uploadFilesContinue from Python.\n",
              "  outputElement.steps = steps;\n",
              "\n",
              "  return _uploadFilesContinue(outputId);\n",
              "}\n",
              "\n",
              "// This is roughly an async generator (not supported in the browser yet),\n",
              "// where there are multiple asynchronous steps and the Python side is going\n",
              "// to poll for completion of each step.\n",
              "// This uses a Promise to block the python side on completion of each step,\n",
              "// then passes the result of the previous step as the input to the next step.\n",
              "function _uploadFilesContinue(outputId) {\n",
              "  const outputElement = document.getElementById(outputId);\n",
              "  const steps = outputElement.steps;\n",
              "\n",
              "  const next = steps.next(outputElement.lastPromiseValue);\n",
              "  return Promise.resolve(next.value.promise).then((value) => {\n",
              "    // Cache the last promise value to make it available to the next\n",
              "    // step of the generator.\n",
              "    outputElement.lastPromiseValue = value;\n",
              "    return next.value.response;\n",
              "  });\n",
              "}\n",
              "\n",
              "/**\n",
              " * Generator function which is called between each async step of the upload\n",
              " * process.\n",
              " * @param {string} inputId Element ID of the input file picker element.\n",
              " * @param {string} outputId Element ID of the output display.\n",
              " * @return {!Iterable<!Object>} Iterable of next steps.\n",
              " */\n",
              "function* uploadFilesStep(inputId, outputId) {\n",
              "  const inputElement = document.getElementById(inputId);\n",
              "  inputElement.disabled = false;\n",
              "\n",
              "  const outputElement = document.getElementById(outputId);\n",
              "  outputElement.innerHTML = '';\n",
              "\n",
              "  const pickedPromise = new Promise((resolve) => {\n",
              "    inputElement.addEventListener('change', (e) => {\n",
              "      resolve(e.target.files);\n",
              "    });\n",
              "  });\n",
              "\n",
              "  const cancel = document.createElement('button');\n",
              "  inputElement.parentElement.appendChild(cancel);\n",
              "  cancel.textContent = 'Cancel upload';\n",
              "  const cancelPromise = new Promise((resolve) => {\n",
              "    cancel.onclick = () => {\n",
              "      resolve(null);\n",
              "    };\n",
              "  });\n",
              "\n",
              "  // Wait for the user to pick the files.\n",
              "  const files = yield {\n",
              "    promise: Promise.race([pickedPromise, cancelPromise]),\n",
              "    response: {\n",
              "      action: 'starting',\n",
              "    }\n",
              "  };\n",
              "\n",
              "  cancel.remove();\n",
              "\n",
              "  // Disable the input element since further picks are not allowed.\n",
              "  inputElement.disabled = true;\n",
              "\n",
              "  if (!files) {\n",
              "    return {\n",
              "      response: {\n",
              "        action: 'complete',\n",
              "      }\n",
              "    };\n",
              "  }\n",
              "\n",
              "  for (const file of files) {\n",
              "    const li = document.createElement('li');\n",
              "    li.append(span(file.name, {fontWeight: 'bold'}));\n",
              "    li.append(span(\n",
              "        `(${file.type || 'n/a'}) - ${file.size} bytes, ` +\n",
              "        `last modified: ${\n",
              "            file.lastModifiedDate ? file.lastModifiedDate.toLocaleDateString() :\n",
              "                                    'n/a'} - `));\n",
              "    const percent = span('0% done');\n",
              "    li.appendChild(percent);\n",
              "\n",
              "    outputElement.appendChild(li);\n",
              "\n",
              "    const fileDataPromise = new Promise((resolve) => {\n",
              "      const reader = new FileReader();\n",
              "      reader.onload = (e) => {\n",
              "        resolve(e.target.result);\n",
              "      };\n",
              "      reader.readAsArrayBuffer(file);\n",
              "    });\n",
              "    // Wait for the data to be ready.\n",
              "    let fileData = yield {\n",
              "      promise: fileDataPromise,\n",
              "      response: {\n",
              "        action: 'continue',\n",
              "      }\n",
              "    };\n",
              "\n",
              "    // Use a chunked sending to avoid message size limits. See b/62115660.\n",
              "    let position = 0;\n",
              "    do {\n",
              "      const length = Math.min(fileData.byteLength - position, MAX_PAYLOAD_SIZE);\n",
              "      const chunk = new Uint8Array(fileData, position, length);\n",
              "      position += length;\n",
              "\n",
              "      const base64 = btoa(String.fromCharCode.apply(null, chunk));\n",
              "      yield {\n",
              "        response: {\n",
              "          action: 'append',\n",
              "          file: file.name,\n",
              "          data: base64,\n",
              "        },\n",
              "      };\n",
              "\n",
              "      let percentDone = fileData.byteLength === 0 ?\n",
              "          100 :\n",
              "          Math.round((position / fileData.byteLength) * 100);\n",
              "      percent.textContent = `${percentDone}% done`;\n",
              "\n",
              "    } while (position < fileData.byteLength);\n",
              "  }\n",
              "\n",
              "  // All done.\n",
              "  yield {\n",
              "    response: {\n",
              "      action: 'complete',\n",
              "    }\n",
              "  };\n",
              "}\n",
              "\n",
              "scope.google = scope.google || {};\n",
              "scope.google.colab = scope.google.colab || {};\n",
              "scope.google.colab._files = {\n",
              "  _uploadFiles,\n",
              "  _uploadFilesContinue,\n",
              "};\n",
              "})(self);\n",
              "</script> "
            ]
          },
          "metadata": {}
        }
      ]
    },
    {
      "cell_type": "code",
      "source": [
        "#loading files from drive to colab\n",
        "from google.colab import drive\n",
        "drive.mount('/content/drive')\n",
        "#CAUTION: RUN THE GOOGLE DRIVE CELL ONLY AFTER MAKING A COPY OF THE NOTEBOOK IN YOUR OWN GITHUB/DRIVE\n",
        "#this allows you to interface with your GDrive data using the left folder icon"
      ],
      "metadata": {
        "id": "7Smu21Riq79P"
      },
      "execution_count": null,
      "outputs": []
    },
    {
      "cell_type": "code",
      "source": [
        "#imports\n",
        "from sklearn import datasets #preloaded datasets\n",
        "from sklearn import metrics #evaluation metrics\n",
        "from sklearn import model_selection #model setup and hyperparameter tuning\n",
        "import numpy as np #numerical analysis\n",
        "import pandas as pd #just in case"
      ],
      "metadata": {
        "id": "k6lq3Gtss3eN"
      },
      "execution_count": 1,
      "outputs": []
    },
    {
      "cell_type": "markdown",
      "source": [
        "#3.&nbsp;Clustering\n",
        "\n"
      ],
      "metadata": {
        "id": "ceqkh1iFocKi"
      }
    },
    {
      "cell_type": "markdown",
      "source": [
        "###3.1&nbsp;Importing the clustering algorithms\n"
      ],
      "metadata": {
        "id": "yIj_mLGKvlBD"
      }
    },
    {
      "cell_type": "code",
      "source": [
        "#clustering algorithms\n",
        "from sklearn.cluster import KMeans\n",
        "from sklearn.cluster import SpectralClustering\n",
        "#as you can see, the writer is a fan of importing particular classes instead \n",
        "#of wholesale packages. If you are not from a computing background this is a\n",
        "#good practice and will save you from frustration as projects get large"
      ],
      "metadata": {
        "id": "IIXdpJBBsM4J"
      },
      "execution_count": 2,
      "outputs": []
    },
    {
      "cell_type": "markdown",
      "source": [
        "###3.2&nbsp;Exploratory Data Analysis\n",
        "\n",
        "Even in unsupervised projects, data analysis is necessary. Many clustering algorithms are not robust for outlier data - manual analysis will help you with model selection and standardisation. It also helps you contextualise the data and results a little bit more.*italicized text*\n"
      ],
      "metadata": {
        "id": "fztNp4IbxepG"
      }
    },
    {
      "cell_type": "code",
      "source": [
        "#load iris dataset\n",
        "iris = datasets.load_iris()\n",
        "X = iris.data\n",
        "y = iris.target\n",
        "\n",
        "#explore num features and num samples\n",
        "print(X.shape[0]) #num samples\n",
        "print(X.shape[1]) #num features\n",
        "print(np.unique(y)) #num classes/clusters\n",
        "\n",
        "#plot histogram of each feature - helps with outliers and shape\n",
        "import matplotlib.pyplot as plt\n",
        "for i in range(X.shape[1]):\n",
        "    plt.hist(X[:,i])\n",
        "    plt.title(iris.feature_names[i])\n",
        "    plt.show()\n",
        "\n",
        "#correlation matrix of features\n",
        "from seaborn import heatmap\n",
        "df = pd.DataFrame(X, columns=iris.feature_names)\n",
        "heatmap(df.corr(), annot=True, cmap='coolwarm')\n"
      ],
      "metadata": {
        "id": "YilVNZ6wwB7d",
        "colab": {
          "base_uri": "https://localhost:8080/",
          "height": 1000
        },
        "outputId": "9e376941-3e4e-4307-9886-cacaed001bde"
      },
      "execution_count": 3,
      "outputs": [
        {
          "output_type": "stream",
          "name": "stdout",
          "text": [
            "150\n",
            "4\n",
            "[0 1 2]\n"
          ]
        },
        {
          "output_type": "display_data",
          "data": {
            "text/plain": [
              "<Figure size 432x288 with 1 Axes>"
            ],
            "image/png": "[encoded data removed]"
          },
          "metadata": {
            "needs_background": "light"
          }
        },
        {
          "output_type": "display_data",
          "data": {
            "text/plain": [
              "<Figure size 432x288 with 1 Axes>"
            ],
            "image/png": "[encoded data removed]"
          },
          "metadata": {
            "needs_background": "light"
          }
        },
        {
          "output_type": "display_data",
          "data": {
            "text/plain": [
              "<Figure size 432x288 with 1 Axes>"
            ],
            "image/png": "[encoded data removed]"
          },
          "metadata": {
            "needs_background": "light"
          }
        },
        {
          "output_type": "display_data",
          "data": {
            "text/plain": [
              "<Figure size 432x288 with 1 Axes>"
            ],
            "image/png": "[encoded data removed]"
          },
          "metadata": {
            "needs_background": "light"
          }
        },
        {
          "output_type": "execute_result",
          "data": {
            "text/plain": [
              "<matplotlib.axes._subplots.AxesSubplot at 0x7f1dd19e9790>"
            ]
          },
          "metadata": {},
          "execution_count": 3
        },
        {
          "output_type": "display_data",
          "data": {
            "text/plain": [
              "<Figure size 432x288 with 2 Axes>"
            ],
            "image/png": "[encoded data removed]"
          },
          "metadata": {
            "needs_background": "light"
          }
        }
      ]
    },
    {
      "cell_type": "markdown",
      "source": [
        "You can see the sepal distributions are a lot closer to normal distribution and that Sepal width contains a lot of information. Below is the KMeans clustering with three clusters (since we know this beforehand) and with other numbers (since we usually don't know things beforehand). \n",
        "\n",
        "**Caution**: Don't make heatmaps like these for large datasets unless you are paying for heavy-duty GPUs"
      ],
      "metadata": {
        "id": "FiQmWwB32cGc"
      }
    },
    {
      "cell_type": "markdown",
      "source": [
        "###3.3&nbsp;Modeling and tuning"
      ],
      "metadata": {
        "id": "cfCBAsCm7pqR"
      }
    },
    {
      "cell_type": "code",
      "source": [
        "# Perform k-means clustering\n",
        "kmeans = KMeans(n_clusters=3, random_state=0)\n",
        "kmeans.fit(X)\n",
        "plt.scatter(X[:, 0], X[:, 1], c=kmeans.labels_, cmap='rainbow')\n"
      ],
      "metadata": {
        "id": "mZa5sAHr2txm",
        "outputId": "f196fd60-1b7d-4237-c2e4-dced266ca430",
        "colab": {
          "base_uri": "https://localhost:8080/",
          "height": 303
        }
      },
      "execution_count": 7,
      "outputs": [
        {
          "output_type": "execute_result",
          "data": {
            "text/plain": [
              "<matplotlib.collections.PathCollection at 0x7f1dcc811c40>"
            ]
          },
          "metadata": {},
          "execution_count": 7
        },
        {
          "output_type": "display_data",
          "data": {
            "text/plain": [
              "<Figure size 432x288 with 1 Axes>"
            ],
            "image/png": "[encoded data removed]"
          },
          "metadata": {}
        }
      ]
    },
    {
      "cell_type": "code",
      "source": [
        "# A list holds the error values for each k\n",
        "sse = []\n",
        "for k in range(1, 11):\n",
        "    kmeans = KMeans(n_clusters=k)\n",
        "    kmeans.fit(X)\n",
        "    sse.append(kmeans.inertia_)\n",
        "plt.style.use(\"fivethirtyeight\")\n",
        "plt.plot(range(1, 11), sse)"
      ],
      "metadata": {
        "id": "PEcNefeV6Xhq",
        "outputId": "2366c149-9872-42ad-b4ff-38aa6a26c464",
        "colab": {
          "base_uri": "https://localhost:8080/",
          "height": 301
        }
      },
      "execution_count": 8,
      "outputs": [
        {
          "output_type": "execute_result",
          "data": {
            "text/plain": [
              "[<matplotlib.lines.Line2D at 0x7f1dcc7776d0>]"
            ]
          },
          "metadata": {},
          "execution_count": 8
        },
        {
          "output_type": "display_data",
          "data": {
            "text/plain": [
              "<Figure size 432x288 with 1 Axes>"
            ],
            "image/png": "[encoded data removed]"
          },
          "metadata": {}
        }
      ]
    },
    {
      "cell_type": "markdown",
      "source": [
        "What just happened? The first cell visualises the KMeans output for k = 3. We already know that there are three clusters so this works well. But we typically don't know this in unsupervised learning. How do we find the optimal value of this hyperparameter? The dominant method is elbow curve - you plot the error values with different values of k (the number of clusters) and plot the loss. The inflection (or elbow) point is the ideal number that maximises results while avoiding overfitting. \n",
        "\n",
        "By the way, how is loss calculated in unspervised learning? For KMeans, we take the sum of squared distances of samples from the centroid of their clusters. If special weights are provided for samples, we can also computer weighted sum. \n",
        "\n",
        "Now let's see another evaluation technique for KMeans, the silhouette score. The silhouette score is a comprehensive metric of how close each point in the sample is to other points in the same cluster and how far it is from other clusters. -1 is the worst possible score and 1 is the best. Score increases linearly with performance."
      ],
      "metadata": {
        "id": "83wl9OHn7ff4"
      }
    },
    {
      "cell_type": "code",
      "source": [
        "# get silhouette score\n",
        "from sklearn.metrics import silhouette_score\n",
        "silhouette_score(X, kmeans.labels_)"
      ],
      "metadata": {
        "id": "kBRy4L2T82qv",
        "outputId": "5a3e2b8b-4630-4e3f-91c2-b2b7c85d23d9",
        "colab": {
          "base_uri": "https://localhost:8080/"
        }
      },
      "execution_count": 9,
      "outputs": [
        {
          "output_type": "execute_result",
          "data": {
            "text/plain": [
              "0.34208165067270896"
            ]
          },
          "metadata": {},
          "execution_count": 9
        }
      ]
    },
    {
      "cell_type": "markdown",
      "source": [
        "##4&nbsp;Classification"
      ],
      "metadata": {
        "id": "NioSCbmmz1Qg"
      }
    },
    {
      "cell_type": "markdown",
      "source": [
        "###4.1&nbsp;Importing the Classification Algorithms"
      ],
      "metadata": {
        "id": "Cnqf4tRX1HcE"
      }
    },
    {
      "cell_type": "code",
      "source": [
        "#import the KNeighborsClassifier\n",
        "from sklearn.neighbors import KNeighborsClassifier"
      ],
      "metadata": {
        "id": "mZ4wZEPb1Lht"
      },
      "execution_count": null,
      "outputs": []
    },
    {
      "cell_type": "markdown",
      "source": [
        "###4.2&nbsp;Modelling and Tuning\n",
        "\n",
        "Since we have done exploratory analysis on the same dataset earlier, I will not do it again here. We will build K-nearest neighbours model to classify data. We will have one hyperparameter to tune for performance - k. \n"
      ],
      "metadata": {
        "id": "WlXx8m6r1ejz"
      }
    },
    {
      "cell_type": "code",
      "source": [
        "#split the data into training and testing sets\n",
        "X_train, X_test, y_train, y_test = model_selection.train_test_split(iris.data, iris.target, test_size=0.2, random_state=0)\n",
        "\n",
        "#instantiate the KNeighborsClassifier\n",
        "knn = KNeighborsClassifier(n_neighbors=3)\n",
        "\n",
        "#fit the model to the training data\n",
        "knn.fit(X_train, y_train)\n",
        "\n",
        "#make predictions on the test data\n",
        "y_pred = knn.predict(X_test)\n",
        "\n",
        "#calculate the accuracy of the model\n",
        "print(metrics.accuracy_score(y_test, y_pred))\n",
        "\n",
        "#calculate the f1 score of the model\n",
        "print(metrics.f1_score(y_test, y_pred, average='weighted'))\n"
      ],
      "metadata": {
        "colab": {
          "base_uri": "https://localhost:8080/"
        },
        "id": "ie-4ggXU1O23",
        "outputId": "f5935b41-8224-43f1-e680-92c490226547"
      },
      "execution_count": null,
      "outputs": [
        {
          "output_type": "stream",
          "name": "stdout",
          "text": [
            "0.9666666666666667\n",
            "0.9672820512820512\n"
          ]
        }
      ]
    },
    {
      "cell_type": "code",
      "source": [
        "#optimize the model using GridSearchCV\n",
        "from sklearn.model_selection import GridSearchCV\n",
        "\n",
        "#set the parameters to test\n",
        "param_grid = {'n_neighbors': [3, 5, 7, 9, 11, 13, 15, 17, 19, 21, 23, 25]}\n",
        "#instantiate the GridSearchCV\n",
        "grid = GridSearchCV(knn, param_grid, cv=5, scoring='accuracy')\n",
        "#fit the model to the training data\n",
        "grid.fit(X_train, y_train)\n",
        "\n",
        "#make predictions on the test data\n",
        "y_pred = grid.predict(X_test)\n",
        "\n",
        "#calculate the accuracy of the model\n",
        "print(metrics.accuracy_score(y_test, y_pred))\n",
        "\n",
        "#calculate the f1 score of the model\n",
        "print(metrics.f1_score(y_test, y_pred, average='weighted'))\n",
        "\n",
        "#display the best parameters\n",
        "print(grid.best_params_)"
      ],
      "metadata": {
        "colab": {
          "base_uri": "https://localhost:8080/"
        },
        "id": "7RI9sFOp2CTg",
        "outputId": "f31bd73a-72bb-48b4-d7c7-aa51a6772a1b"
      },
      "execution_count": null,
      "outputs": [
        {
          "output_type": "stream",
          "name": "stdout",
          "text": [
            "1.0\n",
            "1.0\n",
            "{'n_neighbors': 9}\n"
          ]
        }
      ]
    },
    {
      "cell_type": "markdown",
      "source": [
        "Woah, what did I just do there? Unlike the clustering task, classification is a supervised problem. We will need to test our results to optimise performance. So we split the data and labels into training and testing set. We build the model on training set and make predicitons on testing set and compare against the real values we have to determine accuracy and F1 scores. More on F-1 score here: [Statquest](https://www.youtube.com/watch?v=8d3JbbSj-I8&ab_channel=Scarlett%27sLog)\n",
        "\n",
        "To optimise K, we literally just search for some plausible values. For each value, we rebuild and test the model and keep the best one. \n",
        "\n",
        "\n",
        "**CAUTION:** GridSearch CV searches through a grid of hyperparameters you feed in. This means it expands combinatorially. Here, for one hyperparameter, we feed 12 plausible values. This means twelve reruns. Most models have two-three and sometimes more hyperparameters and with a bigger range. You can imagine what happens if the plausible range is 1-100 and there are three hyperparameters with a real dataset (1000s to millions of samples). Use RandomisedSearch CV - it trades optimality for massive performance gains.\n",
        "\n",
        "**Caution:** K-Means has nothing to do with KNN. The K in K-Means is the number of clusters to build while the K in KNN is the number of nearest points to consider when classifying points. \n",
        "\n",
        "**Best Practices**\n",
        "\n",
        "1.   Be cautious of high accuracy or evaluation scores. Unless your dataset is a toy example like above, a 100% accuracy should ring alarm bells.\n",
        "2.   Everyone thinks they will be careful with using test data. Test data spillage happens more often than you think - sometimes due to bad coding/documenting, sometimes because people do data transformations after splitting. Think of you test data as a clean room. Do all exploration and preprocessing, split immediately before building model, and do not touch test data at all until its time to evaluate. \n",
        "\n",
        "\n"
      ],
      "metadata": {
        "id": "y7ddrL0Y2s_W"
      }
    },
    {
      "cell_type": "markdown",
      "source": [
        "##5&nbsp;Regression\n",
        "\n",
        "We will now use the crab dataset for regression tasks using a random forest model. You can find the data in the repo as 'crab.csv' or download it from the link at the top of this notebook. "
      ],
      "metadata": {
        "id": "GOTlOkuo46RQ"
      }
    },
    {
      "cell_type": "markdown",
      "source": [
        "###5.1&nbsp;Importing the Regression and Encoding Algorithms\n"
      ],
      "metadata": {
        "id": "fE0tSwt-I57g"
      }
    },
    {
      "cell_type": "code",
      "source": [
        "from sklearn.preprocessing import OneHotEncoder\n",
        "from sklearn.ensemble import RandomForestRegressor"
      ],
      "metadata": {
        "id": "QqfqEVP8IL_D"
      },
      "execution_count": 10,
      "outputs": []
    },
    {
      "cell_type": "code",
      "source": [
        "data = pd.read_csv('crabAgePrediction.csv')\n",
        "data.head()"
      ],
      "metadata": {
        "id": "fI1RpTr7JMab",
        "outputId": "4af31553-88ad-4e41-963e-a11f5647c570",
        "colab": {
          "base_uri": "https://localhost:8080/",
          "height": 206
        }
      },
      "execution_count": 12,
      "outputs": [
        {
          "output_type": "execute_result",
          "data": {
            "text/plain": [
              "  Sex  Length  Diameter  Height     Weight  Shucked Weight  Viscera Weight  \\\n",
              "0   F  1.4375    1.1750  0.4125  24.635715       12.332033        5.584852   \n",
              "1   M  0.8875    0.6500  0.2125   5.400580        2.296310        1.374951   \n",
              "2   I  1.0375    0.7750  0.2500   7.952035        3.231843        1.601747   \n",
              "3   F  1.1750    0.8875  0.2500  13.480187        4.748541        2.282135   \n",
              "4   I  0.8875    0.6625  0.2125   6.903103        3.458639        1.488349   \n",
              "\n",
              "   Shell Weight  Age  \n",
              "0      6.747181    9  \n",
              "1      1.559222    6  \n",
              "2      2.764076    6  \n",
              "3      5.244657   10  \n",
              "4      1.700970    6  "
            ],
            "text/html": [
              "\n",
              "  <div id=\"df-e5b19a13-457c-4ff8-805a-d68379a4034b\">\n",
              "    <div class=\"colab-df-container\">\n",
              "      <div>\n",
              "<style scoped>\n",
              "    .dataframe tbody tr th:only-of-type {\n",
              "        vertical-align: middle;\n",
              "    }\n",
              "\n",
              "    .dataframe tbody tr th {\n",
              "        vertical-align: top;\n",
              "    }\n",
              "\n",
              "    .dataframe thead th {\n",
              "        text-align: right;\n",
              "    }\n",
              "</style>\n",
              "<table border=\"1\" class=\"dataframe\">\n",
              "  <thead>\n",
              "    <tr style=\"text-align: right;\">\n",
              "      <th></th>\n",
              "      <th>Sex</th>\n",
              "      <th>Length</th>\n",
              "      <th>Diameter</th>\n",
              "      <th>Height</th>\n",
              "      <th>Weight</th>\n",
              "      <th>Shucked Weight</th>\n",
              "      <th>Viscera Weight</th>\n",
              "      <th>Shell Weight</th>\n",
              "      <th>Age</th>\n",
              "    </tr>\n",
              "  </thead>\n",
              "  <tbody>\n",
              "    <tr>\n",
              "      <th>0</th>\n",
              "      <td>F</td>\n",
              "      <td>1.4375</td>\n",
              "      <td>1.1750</td>\n",
              "      <td>0.4125</td>\n",
              "      <td>24.635715</td>\n",
              "      <td>12.332033</td>\n",
              "      <td>5.584852</td>\n",
              "      <td>6.747181</td>\n",
              "      <td>9</td>\n",
              "    </tr>\n",
              "    <tr>\n",
              "      <th>1</th>\n",
              "      <td>M</td>\n",
              "      <td>0.8875</td>\n",
              "      <td>0.6500</td>\n",
              "      <td>0.2125</td>\n",
              "      <td>5.400580</td>\n",
              "      <td>2.296310</td>\n",
              "      <td>1.374951</td>\n",
              "      <td>1.559222</td>\n",
              "      <td>6</td>\n",
              "    </tr>\n",
              "    <tr>\n",
              "      <th>2</th>\n",
              "      <td>I</td>\n",
              "      <td>1.0375</td>\n",
              "      <td>0.7750</td>\n",
              "      <td>0.2500</td>\n",
              "      <td>7.952035</td>\n",
              "      <td>3.231843</td>\n",
              "      <td>1.601747</td>\n",
              "      <td>2.764076</td>\n",
              "      <td>6</td>\n",
              "    </tr>\n",
              "    <tr>\n",
              "      <th>3</th>\n",
              "      <td>F</td>\n",
              "      <td>1.1750</td>\n",
              "      <td>0.8875</td>\n",
              "      <td>0.2500</td>\n",
              "      <td>13.480187</td>\n",
              "      <td>4.748541</td>\n",
              "      <td>2.282135</td>\n",
              "      <td>5.244657</td>\n",
              "      <td>10</td>\n",
              "    </tr>\n",
              "    <tr>\n",
              "      <th>4</th>\n",
              "      <td>I</td>\n",
              "      <td>0.8875</td>\n",
              "      <td>0.6625</td>\n",
              "      <td>0.2125</td>\n",
              "      <td>6.903103</td>\n",
              "      <td>3.458639</td>\n",
              "      <td>1.488349</td>\n",
              "      <td>1.700970</td>\n",
              "      <td>6</td>\n",
              "    </tr>\n",
              "  </tbody>\n",
              "</table>\n",
              "</div>\n",
              "      <button class=\"colab-df-convert\" onclick=\"convertToInteractive('df-e5b19a13-457c-4ff8-805a-d68379a4034b')\"\n",
              "              title=\"Convert this dataframe to an interactive table.\"\n",
              "              style=\"display:none;\">\n",
              "        \n",
              "  <svg xmlns=\"http://www.w3.org/2000/svg\" height=\"24px\"viewBox=\"0 0 24 24\"\n",
              "       width=\"24px\">\n",
              "    <path d=\"M0 0h24v24H0V0z\" fill=\"none\"/>\n",
              "    <path d=\"M18.56 5.44l.94 2.06.94-2.06 2.06-.94-2.06-.94-.94-2.06-.94 2.06-2.06.94zm-11 1L8.5 8.5l.94-2.06 2.06-.94-2.06-.94L8.5 2.5l-.94 2.06-2.06.94zm10 10l.94 2.06.94-2.06 2.06-.94-2.06-.94-.94-2.06-.94 2.06-2.06.94z\"/><path d=\"M17.41 7.96l-1.37-1.37c-.4-.4-.92-.59-1.43-.59-.52 0-1.04.2-1.43.59L10.3 9.45l-7.72 7.72c-.78.78-.78 2.05 0 2.83L4 21.41c.39.39.9.59 1.41.59.51 0 1.02-.2 1.41-.59l7.78-7.78 2.81-2.81c.8-.78.8-2.07 0-2.86zM5.41 20L4 18.59l7.72-7.72 1.47 1.35L5.41 20z\"/>\n",
              "  </svg>\n",
              "      </button>\n",
              "      \n",
              "  <style>\n",
              "    .colab-df-container {\n",
              "      display:flex;\n",
              "      flex-wrap:wrap;\n",
              "      gap: 12px;\n",
              "    }\n",
              "\n",
              "    .colab-df-convert {\n",
              "      background-color: #E8F0FE;\n",
              "      border: none;\n",
              "      border-radius: 50%;\n",
              "      cursor: pointer;\n",
              "      display: none;\n",
              "      fill: #1967D2;\n",
              "      height: 32px;\n",
              "      padding: 0 0 0 0;\n",
              "      width: 32px;\n",
              "    }\n",
              "\n",
              "    .colab-df-convert:hover {\n",
              "      background-color: #E2EBFA;\n",
              "      box-shadow: 0px 1px 2px rgba(60, 64, 67, 0.3), 0px 1px 3px 1px rgba(60, 64, 67, 0.15);\n",
              "      fill: #174EA6;\n",
              "    }\n",
              "\n",
              "    [theme=dark] .colab-df-convert {\n",
              "      background-color: #3B4455;\n",
              "      fill: #D2E3FC;\n",
              "    }\n",
              "\n",
              "    [theme=dark] .colab-df-convert:hover {\n",
              "      background-color: #434B5C;\n",
              "      box-shadow: 0px 1px 3px 1px rgba(0, 0, 0, 0.15);\n",
              "      filter: drop-shadow(0px 1px 2px rgba(0, 0, 0, 0.3));\n",
              "      fill: #FFFFFF;\n",
              "    }\n",
              "  </style>\n",
              "\n",
              "      <script>\n",
              "        const buttonEl =\n",
              "          document.querySelector('#df-e5b19a13-457c-4ff8-805a-d68379a4034b button.colab-df-convert');\n",
              "        buttonEl.style.display =\n",
              "          google.colab.kernel.accessAllowed ? 'block' : 'none';\n",
              "\n",
              "        async function convertToInteractive(key) {\n",
              "          const element = document.querySelector('#df-e5b19a13-457c-4ff8-805a-d68379a4034b');\n",
              "          const dataTable =\n",
              "            await google.colab.kernel.invokeFunction('convertToInteractive',\n",
              "                                                     [key], {});\n",
              "          if (!dataTable) return;\n",
              "\n",
              "          const docLinkHtml = 'Like what you see? Visit the ' +\n",
              "            '<a target=\"_blank\" href=https://colab.research.google.com/notebooks/data_table.ipynb>data table notebook</a>'\n",
              "            + ' to learn more about interactive tables.';\n",
              "          element.innerHTML = '';\n",
              "          dataTable['output_type'] = 'display_data';\n",
              "          await google.colab.output.renderOutput(dataTable, element);\n",
              "          const docLink = document.createElement('div');\n",
              "          docLink.innerHTML = docLinkHtml;\n",
              "          element.appendChild(docLink);\n",
              "        }\n",
              "      </script>\n",
              "    </div>\n",
              "  </div>\n",
              "  "
            ]
          },
          "metadata": {},
          "execution_count": 12
        }
      ]
    },
    {
      "cell_type": "markdown",
      "source": [
        "###5.2&nbsp;Preprocessing\n",
        "\n",
        "This is not a data processing tutorial. Our goal is to work with relatively clean data and show how to do modeling. This is why we start with a Random Forest model which is naturally immune to outliers and many bad data problems. That said, we will do a bit of processing where we convert the Sex Categorical variable into a numerical one. \n",
        "\n",
        "Currently it is categorical variable with three values (male, female, indeterminate). We will use one hot encoding to create three binary columns where 1 shows the category as true and 0 as false. Why not convert directly to numbers like 1,2,3? Because ML models have a tendency to learn that 3 > 2. So if male is 3 and female is 2, the model will likely learn male > female in its decision system. - which makes no sense. OneHot encoding avoids this."
      ],
      "metadata": {
        "id": "nw_4DciYJOka"
      }
    },
    {
      "cell_type": "code",
      "source": [
        "#replace Sex column with OneHot encoding of Sex\n",
        "encoder = OneHotEncoder()\n",
        "encoder.fit(data[['Sex']]) #encoder computation\n",
        "data_encoded = encoder.transform(data[['Sex']]) #encoder computation 2\n",
        "\n",
        "#merging with origninal data\n",
        "encoded_df = pd.DataFrame(data_encoded.toarray(), columns=encoder.get_feature_names())\n",
        "data = data.join(encoded_df)\n",
        "\n",
        "#remove the original column\n",
        "data.drop('Sex', axis=1, inplace=True)"
      ],
      "metadata": {
        "id": "Nxfo2YM8KCjH",
        "colab": {
          "base_uri": "https://localhost:8080/"
        },
        "outputId": "ccf61a17-4123-4e92-9734-06fa049c357b"
      },
      "execution_count": 13,
      "outputs": [
        {
          "output_type": "stream",
          "name": "stderr",
          "text": [
            "/usr/local/lib/python3.8/dist-packages/sklearn/utils/deprecation.py:87: FutureWarning: Function get_feature_names is deprecated; get_feature_names is deprecated in 1.0 and will be removed in 1.2. Please use get_feature_names_out instead.\n",
            "  warnings.warn(msg, category=FutureWarning)\n"
          ]
        }
      ]
    },
    {
      "cell_type": "markdown",
      "source": [
        "###5.3&nbsp;Modeling and Tuning\n"
      ],
      "metadata": {
        "id": "ERBQu3NdgYwr"
      }
    },
    {
      "cell_type": "code",
      "source": [
        "#set age as y and the rest as X\n",
        "y = data['Age']\n",
        "X = data.drop('Age', axis=1)\n",
        "#split data into train and test\n",
        "X_train, X_test, y_train, y_test = model_selection.train_test_split(X, y, test_size=0.2, random_state=42)\n",
        "\n",
        "#creating and training a random forest regressor\n",
        "rf = RandomForestRegressor(n_estimators=100, random_state=42)\n",
        "rf.fit(X_train, y_train)\n",
        "\n",
        "#predict on test set\n",
        "y_pred = rf.predict(X_test)"
      ],
      "metadata": {
        "id": "u2XcSlraKJaZ"
      },
      "execution_count": 14,
      "outputs": []
    },
    {
      "cell_type": "code",
      "source": [
        "# Import the RandomizedSearchCV class\n",
        "from sklearn.model_selection import RandomizedSearchCV\n",
        "\n",
        "# Define the range of values for each hyperparameter\n",
        "param_dist = {\n",
        "    'n_estimators': [10, 25, 50],\n",
        "    'max_depth': [4, 6, 10],\n",
        "    'min_samples_split': [2, 5, 10],\n",
        "    'min_samples_leaf': [1, 2, 3],\n",
        "    'max_features': [2, 5, 10],\n",
        "    'random_state': [42]\n",
        "}\n",
        "\n",
        "# Create the RandomizedSearchCV object with the random forest model and parameter distribution\n",
        "random_search = RandomizedSearchCV(RandomForestRegressor(), param_dist, scoring='neg_mean_squared_error')\n",
        "\n",
        "# Fit the random search to the data\n",
        "random_search.fit(X_train, y_train)\n",
        "\n",
        "# Print the best combination of hyperparameters\n",
        "print(random_search.best_params_)\n"
      ],
      "metadata": {
        "id": "XDXBIRa2fhoo",
        "outputId": "30050e42-4e2a-4b56-ad3d-a565e0faac8d",
        "colab": {
          "base_uri": "https://localhost:8080/"
        }
      },
      "execution_count": 15,
      "outputs": [
        {
          "output_type": "stream",
          "name": "stdout",
          "text": [
            "{'random_state': 42, 'n_estimators': 50, 'min_samples_split': 10, 'min_samples_leaf': 1, 'max_features': 10, 'max_depth': 10}\n"
          ]
        }
      ]
    },
    {
      "cell_type": "code",
      "source": [
        "#print all scores\n",
        "print(random_search.cv_results_['mean_test_score'])\n",
        "\n",
        "#print best score\n",
        "print(random_search.best_score_)"
      ],
      "metadata": {
        "id": "nk7cg6kbghM6",
        "outputId": "f75d9279-171a-4ebe-ce0a-48bedb27bc3d",
        "colab": {
          "base_uri": "https://localhost:8080/"
        }
      },
      "execution_count": 16,
      "outputs": [
        {
          "output_type": "stream",
          "name": "stdout",
          "text": [
            "[-5.49083991 -4.94842415 -5.44319115 -5.96125402 -4.8219045  -5.48029741\n",
            " -4.86501425 -4.85366788 -4.98696253 -6.07808271]\n",
            "-4.821904495850497\n"
          ]
        }
      ]
    },
    {
      "cell_type": "markdown",
      "source": [
        "As you can see, for regression, we import the random forest regressor, instantiate it, fit, and predict. I think you might be getting the hang of how sklearn models typically work. \n",
        "\n",
        "For evaluation and hyperparameter tuning, the regression model is measured using negative mean squared error as a loss metric. The lower this is, the better the model is. 0 is perfect. There are many other loss functions but if you know nothing, use this one.\n",
        "\n",
        "You might also see that I used Randomized Search instead of Grid Search. This is for demonstration. As noted earlier, this might not be optimal but if you know how to instantiate the parameter grid, you will get really close. Learning the instantiation is honestly a matter of domain experience."
      ],
      "metadata": {
        "id": "CGtH18yegov8"
      }
    },
    {
      "cell_type": "markdown",
      "source": [
        "If you want to learn things in detail, this is the ultimate ML with sklearn handbook: [Hands on Machine Learning with SKLearn](https://learning.oreilly.com/library/view/hands-on-machine-learning/9781492032632/)"
      ],
      "metadata": {
        "id": "gNEMHel1KF0I"
      }
    },
    {
      "cell_type": "code",
      "source": [],
      "metadata": {
        "id": "FBZRmtz_KLqH"
      },
      "execution_count": null,
      "outputs": []
    }
  ]
}