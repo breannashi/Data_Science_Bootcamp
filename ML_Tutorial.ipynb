{
  "nbformat": 4,
  "nbformat_minor": 0,
  "metadata": {
    "colab": {
      "provenance": [],
      "include_colab_link": true
    },
    "kernelspec": {
      "name": "python3",
      "display_name": "Python 3"
    },
    "language_info": {
      "name": "python"
    }
  },
  "cells": [
    {
      "cell_type": "markdown",
      "metadata": {
        "id": "view-in-github",
        "colab_type": "text"
      },
      "source": [
        "<a href=\"https://colab.research.google.com/github/breannashi/Data_Science_Bootcamp/blob/ml-tutorial/ML_Tutorial.ipynb\" target=\"_parent\"><img src=\"https://colab.research.google.com/assets/colab-badge.svg\" alt=\"Open In Colab\"/></a>"
      ]
    },
    {
      "cell_type": "markdown",
      "source": [
        "## Machine Learning Tutorial - Bioinformatics Bootcamp 2022\n"
      ],
      "metadata": {
        "id": "10fh4XDLm1se"
      }
    },
    {
      "cell_type": "markdown",
      "source": [
        "### 1.&nbsp;Prerequisite Knowledge and Table of Contents\n",
        "\n",
        "\n",
        "This course focuses on a machine learning tutorial for people working in bioinformatics. We start with a clean synthetic dataset and apply statistical models in clustering, regression, and classification. This tutorial assumes a working knowledge of Python programming, linear algebra with NumPy, and Pandas for data analysis - especially the first two.\n",
        "\n",
        "\n"
      ],
      "metadata": {
        "id": "2cByvZeUobP8"
      }
    },
    {
      "cell_type": "markdown",
      "source": [
        "###2. Introduction to Datasets Used in this Tutorial\n",
        "The datasets used in this tutorial were found in Kaggle. Kaggle is a website thats useful in finding datasets.\n",
        "\n",
        "For the clustering and classification sections of this tutorial, we will be using the iris dataset, found here:\n",
        "\n",
        "https://www.kaggle.com/datasets/himanshunakrani/iris-dataset?resource=download\n",
        "\n",
        "This dataset gives information about the length and width of the petals and sepals of various iris species. You can use this information to cluster flowers based on these measurements. We can also use this information to classify flowers if the species was unknown. \n",
        "\n",
        "For the regression section of this tutorial, we will be using the crab age prediction dataset, found here:\n",
        "\n",
        "https://www.kaggle.com/datasets/sidhus/crab-age-prediction\n",
        "\n",
        "This dataset has information about crab sex, length, diameter, height, weight, and age. You can use this informaiton to build a regression model to predict a crabs age based on certain parameters given, such as diameter and height.\n",
        "\n",
        "You can use the links above to download these datasets to use in this tutorial.\n"
      ],
      "metadata": {
        "id": "-q5yrsbVutDc"
      }
    },
    {
      "cell_type": "code",
      "source": [
        "#Use this to upload the csv files from your computer into Colab.\n",
        "from google.colab import files\n",
        "uploaded = files.upload()"
      ],
      "metadata": {
        "id": "_V-gWVe9xe0V"
      },
      "execution_count": null,
      "outputs": []
    }
  ]
}