{
  "nbformat": 4,
  "nbformat_minor": 0,
  "metadata": {
    "colab": {
      "provenance": [],
      "toc_visible": true,
      "include_colab_link": true
    },
    "kernelspec": {
      "name": "python3",
      "display_name": "Python 3"
    },
    "language_info": {
      "name": "python"
    },
    "gpuClass": "standard"
  },
  "cells": [
    {
      "cell_type": "markdown",
      "metadata": {
        "id": "view-in-github",
        "colab_type": "text"
      },
      "source": [
        "<a href=\"https://colab.research.google.com/github/breannashi/Data_Science_Bootcamp/blob/ml-tutorial/ML_Tutorial.ipynb\" target=\"_parent\"><img src=\"https://colab.research.google.com/assets/colab-badge.svg\" alt=\"Open In Colab\"/></a>"
      ]
    },
    {
      "cell_type": "markdown",
      "source": [
        "## Machine Learning Tutorial - Bioinformatics Bootcamp 2022\n"
      ],
      "metadata": {
        "id": "10fh4XDLm1se"
      }
    },
    {
      "cell_type": "markdown",
      "source": [
        "## 1.&nbsp;Prerequisite Knowledge and Table of Contents\n",
        "\n",
        "This course focuses on a machine learning tutorial for people working in bioinformatics. We start with a clean synthetic dataset and apply statistical models in clustering, regression, and classification with sklearn. This tutorial assumes a working knowledge of Python programming, linear algebra with NumPy, and Pandas for data analysis - especially the first two.\n",
        "\n",
        "\n"
      ],
      "metadata": {
        "id": "2cByvZeUobP8"
      }
    },
    {
      "cell_type": "markdown",
      "source": [
        "##2.&nbsp;Setting up data and packages\n",
        "\n",
        "\n",
        "The datasets used in this tutorial were found in Kaggle. Kaggle is a website thats useful in finding datasets.\n",
        "\n",
        "For the clustering and classification sections of this tutorial, we will be using the popular iris dataset. You can upload it using the link below but we will use the preloaded one in sklearn.\n",
        "\n",
        "https://www.kaggle.com/datasets/himanshunakrani/iris-dataset?resource=download\n",
        "\n",
        "This dataset gives information about the length and width of the petals and sepals of various iris species. You can use this information to cluster flowers based on these measurements. We can also use this information to classify flowers if the species was unknown.\n",
        "\n",
        "For the regression section of this tutorial, we will be using the crab age prediction dataset, found here:\n",
        "\n",
        "https://www.kaggle.com/datasets/sidhus/crab-age-prediction\n",
        "\n",
        "This dataset has information about crab sex, length, diameter, height, weight, and age. You can use this informaiton to build a regression model to predict a crabs age based on certain parameters given, such as diameter and height.\n",
        "\n",
        "You can use the links above to download these datasets to use in this tutorial.\n"
      ],
      "metadata": {
        "id": "-q5yrsbVutDc"
      }
    },
    {
      "cell_type": "code",
      "source": [
        "#uploading files to colab\n",
        "from google.colab import files\n",
        "uploaded = files.upload()\n",
        "#or use the folder icon on the left"
      ],
      "metadata": {
        "id": "VwZf7uUrpgvB",
        "outputId": "f7804956-152b-4256-ad7d-446792bc118a",
        "colab": {
          "base_uri": "https://localhost:8080/",
          "height": 39
        }
      },
      "execution_count": 1,
      "outputs": [
        {
          "output_type": "display_data",
          "data": {
            "text/plain": [
              "<IPython.core.display.HTML object>"
            ],
            "text/html": [
              "\n",
              "     <input type=\"file\" id=\"files-dcac5667-da69-4f1c-82d0-a2e340e8884a\" name=\"files[]\" multiple disabled\n",
              "        style=\"border:none\" />\n",
              "     <output id=\"result-dcac5667-da69-4f1c-82d0-a2e340e8884a\">\n",
              "      Upload widget is only available when the cell has been executed in the\n",
              "      current browser session. Please rerun this cell to enable.\n",
              "      </output>\n",
              "      <script>// Copyright 2017 Google LLC\n",
              "//\n",
              "// Licensed under the Apache License, Version 2.0 (the \"License\");\n",
              "// you may not use this file except in compliance with the License.\n",
              "// You may obtain a copy of the License at\n",
              "//\n",
              "//      http://www.apache.org/licenses/LICENSE-2.0\n",
              "//\n",
              "// Unless required by applicable law or agreed to in writing, software\n",
              "// distributed under the License is distributed on an \"AS IS\" BASIS,\n",
              "// WITHOUT WARRANTIES OR CONDITIONS OF ANY KIND, either express or implied.\n",
              "// See the License for the specific language governing permissions and\n",
              "// limitations under the License.\n",
              "\n",
              "/**\n",
              " * @fileoverview Helpers for google.colab Python module.\n",
              " */\n",
              "(function(scope) {\n",
              "function span(text, styleAttributes = {}) {\n",
              "  const element = document.createElement('span');\n",
              "  element.textContent = text;\n",
              "  for (const key of Object.keys(styleAttributes)) {\n",
              "    element.style[key] = styleAttributes[key];\n",
              "  }\n",
              "  return element;\n",
              "}\n",
              "\n",
              "// Max number of bytes which will be uploaded at a time.\n",
              "const MAX_PAYLOAD_SIZE = 100 * 1024;\n",
              "\n",
              "function _uploadFiles(inputId, outputId) {\n",
              "  const steps = uploadFilesStep(inputId, outputId);\n",
              "  const outputElement = document.getElementById(outputId);\n",
              "  // Cache steps on the outputElement to make it available for the next call\n",
              "  // to uploadFilesContinue from Python.\n",
              "  outputElement.steps = steps;\n",
              "\n",
              "  return _uploadFilesContinue(outputId);\n",
              "}\n",
              "\n",
              "// This is roughly an async generator (not supported in the browser yet),\n",
              "// where there are multiple asynchronous steps and the Python side is going\n",
              "// to poll for completion of each step.\n",
              "// This uses a Promise to block the python side on completion of each step,\n",
              "// then passes the result of the previous step as the input to the next step.\n",
              "function _uploadFilesContinue(outputId) {\n",
              "  const outputElement = document.getElementById(outputId);\n",
              "  const steps = outputElement.steps;\n",
              "\n",
              "  const next = steps.next(outputElement.lastPromiseValue);\n",
              "  return Promise.resolve(next.value.promise).then((value) => {\n",
              "    // Cache the last promise value to make it available to the next\n",
              "    // step of the generator.\n",
              "    outputElement.lastPromiseValue = value;\n",
              "    return next.value.response;\n",
              "  });\n",
              "}\n",
              "\n",
              "/**\n",
              " * Generator function which is called between each async step of the upload\n",
              " * process.\n",
              " * @param {string} inputId Element ID of the input file picker element.\n",
              " * @param {string} outputId Element ID of the output display.\n",
              " * @return {!Iterable<!Object>} Iterable of next steps.\n",
              " */\n",
              "function* uploadFilesStep(inputId, outputId) {\n",
              "  const inputElement = document.getElementById(inputId);\n",
              "  inputElement.disabled = false;\n",
              "\n",
              "  const outputElement = document.getElementById(outputId);\n",
              "  outputElement.innerHTML = '';\n",
              "\n",
              "  const pickedPromise = new Promise((resolve) => {\n",
              "    inputElement.addEventListener('change', (e) => {\n",
              "      resolve(e.target.files);\n",
              "    });\n",
              "  });\n",
              "\n",
              "  const cancel = document.createElement('button');\n",
              "  inputElement.parentElement.appendChild(cancel);\n",
              "  cancel.textContent = 'Cancel upload';\n",
              "  const cancelPromise = new Promise((resolve) => {\n",
              "    cancel.onclick = () => {\n",
              "      resolve(null);\n",
              "    };\n",
              "  });\n",
              "\n",
              "  // Wait for the user to pick the files.\n",
              "  const files = yield {\n",
              "    promise: Promise.race([pickedPromise, cancelPromise]),\n",
              "    response: {\n",
              "      action: 'starting',\n",
              "    }\n",
              "  };\n",
              "\n",
              "  cancel.remove();\n",
              "\n",
              "  // Disable the input element since further picks are not allowed.\n",
              "  inputElement.disabled = true;\n",
              "\n",
              "  if (!files) {\n",
              "    return {\n",
              "      response: {\n",
              "        action: 'complete',\n",
              "      }\n",
              "    };\n",
              "  }\n",
              "\n",
              "  for (const file of files) {\n",
              "    const li = document.createElement('li');\n",
              "    li.append(span(file.name, {fontWeight: 'bold'}));\n",
              "    li.append(span(\n",
              "        `(${file.type || 'n/a'}) - ${file.size} bytes, ` +\n",
              "        `last modified: ${\n",
              "            file.lastModifiedDate ? file.lastModifiedDate.toLocaleDateString() :\n",
              "                                    'n/a'} - `));\n",
              "    const percent = span('0% done');\n",
              "    li.appendChild(percent);\n",
              "\n",
              "    outputElement.appendChild(li);\n",
              "\n",
              "    const fileDataPromise = new Promise((resolve) => {\n",
              "      const reader = new FileReader();\n",
              "      reader.onload = (e) => {\n",
              "        resolve(e.target.result);\n",
              "      };\n",
              "      reader.readAsArrayBuffer(file);\n",
              "    });\n",
              "    // Wait for the data to be ready.\n",
              "    let fileData = yield {\n",
              "      promise: fileDataPromise,\n",
              "      response: {\n",
              "        action: 'continue',\n",
              "      }\n",
              "    };\n",
              "\n",
              "    // Use a chunked sending to avoid message size limits. See b/62115660.\n",
              "    let position = 0;\n",
              "    do {\n",
              "      const length = Math.min(fileData.byteLength - position, MAX_PAYLOAD_SIZE);\n",
              "      const chunk = new Uint8Array(fileData, position, length);\n",
              "      position += length;\n",
              "\n",
              "      const base64 = btoa(String.fromCharCode.apply(null, chunk));\n",
              "      yield {\n",
              "        response: {\n",
              "          action: 'append',\n",
              "          file: file.name,\n",
              "          data: base64,\n",
              "        },\n",
              "      };\n",
              "\n",
              "      let percentDone = fileData.byteLength === 0 ?\n",
              "          100 :\n",
              "          Math.round((position / fileData.byteLength) * 100);\n",
              "      percent.textContent = `${percentDone}% done`;\n",
              "\n",
              "    } while (position < fileData.byteLength);\n",
              "  }\n",
              "\n",
              "  // All done.\n",
              "  yield {\n",
              "    response: {\n",
              "      action: 'complete',\n",
              "    }\n",
              "  };\n",
              "}\n",
              "\n",
              "scope.google = scope.google || {};\n",
              "scope.google.colab = scope.google.colab || {};\n",
              "scope.google.colab._files = {\n",
              "  _uploadFiles,\n",
              "  _uploadFilesContinue,\n",
              "};\n",
              "})(self);\n",
              "</script> "
            ]
          },
          "metadata": {}
        }
      ]
    },
    {
      "cell_type": "code",
      "source": [
        "#loading files from drive to colab\n",
        "from google.colab import drive\n",
        "drive.mount('/content/drive')\n",
        "#CAUTION: RUN THE GOOGLE DRIVE CELL ONLY AFTER MAKING A COPY OF THE NOTEBOOK IN YOUR OWN GITHUB/DRIVE\n",
        "#this allows you to interface with your GDrive data using the left folder icon"
      ],
      "metadata": {
        "id": "7Smu21Riq79P"
      },
      "execution_count": null,
      "outputs": []
    },
    {
      "cell_type": "code",
      "source": [
        "#imports\n",
        "from sklearn import datasets #preloaded datasets\n",
        "from sklearn import metrics #evaluation metrics\n",
        "from sklearn import model_selection #model setup and hyperparameter tuning\n",
        "import numpy as np #numerical analysis\n",
        "import pandas as pd #just in case"
      ],
      "metadata": {
        "id": "k6lq3Gtss3eN"
      },
      "execution_count": 6,
      "outputs": []
    },
    {
      "cell_type": "markdown",
      "source": [
        "#3.&nbsp;Clustering\n",
        "\n"
      ],
      "metadata": {
        "id": "ceqkh1iFocKi"
      }
    },
    {
      "cell_type": "markdown",
      "source": [
        "###3.1&nbsp;Importing the clustering algorithms\n"
      ],
      "metadata": {
        "id": "yIj_mLGKvlBD"
      }
    },
    {
      "cell_type": "code",
      "source": [
        "#clustering algorithms\n",
        "from sklearn.cluster import KMeans\n",
        "from sklearn.cluster import SpectralClustering\n",
        "#as you can see, the writer is a fan of importing particular classes instead \n",
        "#of wholesale packages. If you are not from a computing background this is a\n",
        "#good practice and will save you from frustration as projects get large"
      ],
      "metadata": {
        "id": "IIXdpJBBsM4J"
      },
      "execution_count": 4,
      "outputs": []
    },
    {
      "cell_type": "markdown",
      "source": [
        "###3.2&nbsp;Exploratory Data Analysis\n",
        "\n",
        "Even in unsupervised projects, data analysis is necessary. Many clustering algorithms are not robust for outlier data - manual analysis will help you with model selection and standardisation. It also helps you contextualise the data and results a little bit more.*italicized text*\n"
      ],
      "metadata": {
        "id": "fztNp4IbxepG"
      }
    },
    {
      "cell_type": "code",
      "source": [
        "#load iris dataset\n",
        "iris = datasets.load_iris()\n",
        "X = iris.data\n",
        "y = iris.target\n",
        "\n",
        "#explore num features and num samples\n",
        "print(X.shape[0]) #num samples\n",
        "print(X.shape[1]) #num features\n",
        "print(np.unique(y)) #num classes/clusters\n",
        "\n",
        "#plot histogram of each feature - helps with outliers and shape\n",
        "import matplotlib.pyplot as plt\n",
        "for i in range(X.shape[1]):\n",
        "    plt.hist(X[:,i])\n",
        "    plt.title(iris.feature_names[i])\n",
        "    plt.show()\n",
        "\n",
        "#correlation matrix of features\n",
        "from seaborn import heatmap\n",
        "df = pd.DataFrame(X, columns=iris.feature_names)\n",
        "heatmap(df.corr(), annot=True, cmap='coolwarm')\n"
      ],
      "metadata": {
        "id": "YilVNZ6wwB7d"
      },
      "execution_count": null,
      "outputs": []
    },
    {
      "cell_type": "markdown",
      "source": [
        "You can see the sepal distributions are a lot closer to Gaussian and that Sepal width contains a lot of information. Below is the KMeans clustering with three clusters (since we know this beforehand) and with other numbers (since we usually don't know things beforehand). \n",
        "\n",
        "**Caution**: Don't make heatmaps like these for large datasets unless you are paying for heavy-duty GPUs"
      ],
      "metadata": {
        "id": "FiQmWwB32cGc"
      }
    },
    {
      "cell_type": "markdown",
      "source": [
        "###3.3&nbsp;Modeling and tuning"
      ],
      "metadata": {
        "id": "cfCBAsCm7pqR"
      }
    },
    {
      "cell_type": "code",
      "source": [
        "# Perform k-means clustering\n",
        "kmeans = KMeans(n_clusters=3, random_state=0)\n",
        "kmeans.fit(X)\n",
        "plt.scatter(X[:, 0], X[:, 1], c=kmeans.labels_, cmap='rainbow')\n"
      ],
      "metadata": {
        "id": "mZa5sAHr2txm",
        "outputId": "edf5dbac-8490-4811-9395-146102faf364",
        "colab": {
          "base_uri": "https://localhost:8080/",
          "height": 286
        }
      },
      "execution_count": 8,
      "outputs": [
        {
          "output_type": "execute_result",
          "data": {
            "text/plain": [
              "<matplotlib.collections.PathCollection at 0x7f37b84ca280>"
            ]
          },
          "metadata": {},
          "execution_count": 8
        },
        {
          "output_type": "display_data",
          "data": {
            "text/plain": [
              "<Figure size 432x288 with 1 Axes>"
            ],
            "image/png": "[encoded data removed]"
          },
          "metadata": {
            "needs_background": "light"
          }
        }
      ]
    },
    {
      "cell_type": "code",
      "source": [
        "# A list holds the error values for each k\n",
        "sse = []\n",
        "for k in range(1, 11):\n",
        "    kmeans = KMeans(n_clusters=k)\n",
        "    kmeans.fit(X)\n",
        "    sse.append(kmeans.inertia_)\n",
        "plt.style.use(\"fivethirtyeight\")\n",
        "plt.plot(range(1, 11), sse)"
      ],
      "metadata": {
        "id": "PEcNefeV6Xhq",
        "outputId": "5754bb0d-6a0c-4c38-c6e2-eab9bb0867e7",
        "colab": {
          "base_uri": "https://localhost:8080/",
          "height": 301
        }
      },
      "execution_count": 9,
      "outputs": [
        {
          "output_type": "execute_result",
          "data": {
            "text/plain": [
              "[<matplotlib.lines.Line2D at 0x7f37b644c1c0>]"
            ]
          },
          "metadata": {},
          "execution_count": 9
        },
        {
          "output_type": "display_data",
          "data": {
            "text/plain": [
              "<Figure size 432x288 with 1 Axes>"
            ],
            "image/png": "[encoded data removed]"
          },
          "metadata": {}
        }
      ]
    },
    {
      "cell_type": "markdown",
      "source": [
        "What just happened? The first cell visualises the KMeans output for k = 3. We already know that there are three clusters so this works well. But we typically don't know this in unsupervised learning. How do we find the optimal value of this hyperparameter? The dominant method is elbow curve - you plot the error values with different values of k (the number of clusters) and plot the loss. The inflection (or elbow) point is the ideal number that maximises results while avoiding overfitting. \n",
        "\n",
        "By the way, how is loss calculated in unspervised learning? For KMeans, we take the sum of squared distances of samples from the centroid of their clusters. If special weights are provided for samples, we can also computer weighted sum. \n",
        "\n",
        "Now let's see another evaluation technique for KMeans, the silhouette score. The silhouette score is a comprehensive metric of how close each point in the sample is to other points in the same cluster and how far it is from other clusters. -1 is the worst possible score and 1 is the best. Score increases linearly with performance."
      ],
      "metadata": {
        "id": "83wl9OHn7ff4"
      }
    },
    {
      "cell_type": "code",
      "source": [
        "# get silhouette score\n",
        "from sklearn.metrics import silhouette_score\n",
        "silhouette_score(X, kmeans.labels_)"
      ],
      "metadata": {
        "id": "kBRy4L2T82qv",
        "outputId": "dd07a64b-3e26-4335-b399-ab85bff470cf",
        "colab": {
          "base_uri": "https://localhost:8080/"
        }
      },
      "execution_count": 10,
      "outputs": [
        {
          "output_type": "execute_result",
          "data": {
            "text/plain": [
              "0.3137105216921768"
            ]
          },
          "metadata": {},
          "execution_count": 10
        }
      ]
    },
    {
      "cell_type": "markdown",
      "source": [
        "##4&nbsp;Classification"
      ],
      "metadata": {
        "id": "NioSCbmmz1Qg"
      }
    },
    {
      "cell_type": "markdown",
      "source": [
        "###4.1&nbsp;Importing the Classification Algorithms"
      ],
      "metadata": {
        "id": "Cnqf4tRX1HcE"
      }
    },
    {
      "cell_type": "code",
      "source": [
        "#import the KNeighborsClassifier\n",
        "from sklearn.neighbors import KNeighborsClassifier"
      ],
      "metadata": {
        "id": "mZ4wZEPb1Lht"
      },
      "execution_count": 11,
      "outputs": []
    },
    {
      "cell_type": "markdown",
      "source": [
        "###4.2&nbsp;Modelling and Tuning\n",
        "\n",
        "Since we have done exploratory analysis on the same dataset earlier, I will not do it again here. We will build K-nearest neighbours model to classify data. We will have one hyperparameter to tune for performance - k. \n"
      ],
      "metadata": {
        "id": "WlXx8m6r1ejz"
      }
    },
    {
      "cell_type": "code",
      "source": [
        "#split the data into training and testing sets\n",
        "X_train, X_test, y_train, y_test = model_selection.train_test_split(iris.data, iris.target, test_size=0.2, random_state=0)\n",
        "\n",
        "#instantiate the KNeighborsClassifier\n",
        "knn = KNeighborsClassifier(n_neighbors=3)\n",
        "\n",
        "#fit the model to the training data\n",
        "knn.fit(X_train, y_train)\n",
        "\n",
        "#make predictions on the test data\n",
        "y_pred = knn.predict(X_test)\n",
        "\n",
        "#calculate the accuracy of the model\n",
        "print(metrics.accuracy_score(y_test, y_pred))\n",
        "\n",
        "#calculate the f1 score of the model\n",
        "print(metrics.f1_score(y_test, y_pred, average='weighted'))\n"
      ],
      "metadata": {
        "id": "ie-4ggXU1O23",
        "outputId": "f5935b41-8224-43f1-e680-92c490226547",
        "colab": {
          "base_uri": "https://localhost:8080/"
        }
      },
      "execution_count": 12,
      "outputs": [
        {
          "output_type": "stream",
          "name": "stdout",
          "text": [
            "0.9666666666666667\n",
            "0.9672820512820512\n"
          ]
        }
      ]
    },
    {
      "cell_type": "code",
      "source": [
        "#optimize the model using GridSearchCV\n",
        "from sklearn.model_selection import GridSearchCV\n",
        "\n",
        "#set the parameters to test\n",
        "param_grid = {'n_neighbors': [3, 5, 7, 9, 11, 13, 15, 17, 19, 21, 23, 25]}\n",
        "#instantiate the GridSearchCV\n",
        "grid = GridSearchCV(knn, param_grid, cv=5, scoring='accuracy')\n",
        "#fit the model to the training data\n",
        "grid.fit(X_train, y_train)\n",
        "\n",
        "#make predictions on the test data\n",
        "y_pred = grid.predict(X_test)\n",
        "\n",
        "#calculate the accuracy of the model\n",
        "print(metrics.accuracy_score(y_test, y_pred))\n",
        "\n",
        "#calculate the f1 score of the model\n",
        "print(metrics.f1_score(y_test, y_pred, average='weighted'))\n",
        "\n",
        "#display the best parameters\n",
        "print(grid.best_params_)"
      ],
      "metadata": {
        "id": "7RI9sFOp2CTg",
        "outputId": "f31bd73a-72bb-48b4-d7c7-aa51a6772a1b",
        "colab": {
          "base_uri": "https://localhost:8080/"
        }
      },
      "execution_count": 13,
      "outputs": [
        {
          "output_type": "stream",
          "name": "stdout",
          "text": [
            "1.0\n",
            "1.0\n",
            "{'n_neighbors': 9}\n"
          ]
        }
      ]
    },
    {
      "cell_type": "markdown",
      "source": [
        "Woah, what did I just do there? Unlike the clustering task, classification is a supervised problem. We will need to test our results to optimise performance. So we split the data and labels into training and testing set. We build the model on training set and make predicitons on testing set and compare against the real values we have to determine accuracy and F1 scores.\n",
        "\n",
        "To optimise K, we literally just search for some plausible values. For each value, we rebuild and test the model and keep the best one. \n",
        "\n",
        "\n",
        "**CAUTION:** GridSearch CV searches through a grid of hyperparameters you feed in. This means it expands combinatorially. Here, for one hyperparameter, we feed 12 plausible values. This means twelve reruns. Most models have two-three and sometimes more hyperparameters and with a bigger range. You can imagine what happens if the plausible range is 1-100 and there are three hyperparameters with a real dataset (1000s to millions of samples). Use RandomisedSearch CV - it trades optimality for massive performance gains.\n",
        "\n",
        "**Best Practices**\n",
        "\n",
        "1.   Be cautious of high accuracy or evaluation scores. Unless your dataset is a toy example like above, a 100% accuracy should ring alarm bells.\n",
        "2.   Everyone thinks they will be careful with using test data. Test data spillage happens more often than you think - sometimes due to bad coding/documenting, sometimes because people do data transformations after splitting. Think of you test data as a clean room. Do all exploration and preprocessing, split immediately before building model, and do not touch test data at all until its time to evaluate. \n",
        "\n",
        "\n"
      ],
      "metadata": {
        "id": "y7ddrL0Y2s_W"
      }
    },
    {
      "cell_type": "markdown",
      "source": [
        "##5&nbsp;Regression"
      ],
      "metadata": {
        "id": "GOTlOkuo46RQ"
      }
    },
    {
      "cell_type": "code",
      "source": [],
      "metadata": {
        "id": "YQEJi0yu4-lr"
      },
      "execution_count": null,
      "outputs": []
    }
  ]
}