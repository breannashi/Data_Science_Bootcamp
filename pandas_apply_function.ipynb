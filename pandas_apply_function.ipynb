{
  "nbformat": 4,
  "nbformat_minor": 0,
  "metadata": {
    "colab": {
      "provenance": [],
      "authorship_tag": "ABX9TyNaqS4jFz51cTM46xKz/gEd",
      "include_colab_link": true
    },
    "kernelspec": {
      "name": "python3",
      "display_name": "Python 3"
    },
    "language_info": {
      "name": "python"
    }
  },
  "cells": [
    {
      "cell_type": "markdown",
      "metadata": {
        "id": "view-in-github",
        "colab_type": "text"
      },
      "source": [
        "<a href=\"https://colab.research.google.com/github/breannashi/Data_Science_Bootcamp/blob/pandas-apply-function/pandas_apply_function.ipynb\" target=\"_parent\"><img src=\"https://colab.research.google.com/assets/colab-badge.svg\" alt=\"Open In Colab\"/></a>"
      ]
    },
    {
      "cell_type": "markdown",
      "source": [
        "**Applying Functions to Dataframes in Pandas:**\n",
        "The apply() function can be used to apply functions to an axis of a dataframe. The applymap() function can be used to apply a function elementwise.\n",
        "\n"
      ],
      "metadata": {
        "id": "psTLA27jyJEL"
      }
    },
    {
      "cell_type": "markdown",
      "source": [
        "**Apply()**\n",
        "\n",
        "The pandas dataframe defines the function with the following parameters:"
      ],
      "metadata": {
        "id": "eJxgQ-ke18a1"
      }
    },
    {
      "cell_type": "code",
      "source": [
        "'''\n",
        "def apply( \n",
        "    self,\n",
        "    func,\n",
        "    axis=0,\n",
        "    broadcast=None,\n",
        "    raw=False,\n",
        "    reduce=None,\n",
        "    result_type=None,\n",
        "    args=(),\n",
        "    **kwds\n",
        ")\n",
        "'''"
      ],
      "metadata": {
        "id": "MdQi8-_F7EUm"
      },
      "execution_count": null,
      "outputs": []
    },
    {
      "cell_type": "markdown",
      "source": [
        "The most important parameters are **func**, the function to be applied, **axis**, where to apply the function, and **args** and **kwargs**, used to pass additional arguments and kew-word arguments to the function. \n",
        "\n",
        "You will need the pandas package when you want to use apply(), and will need the numpy package to complete this tutorial."
      ],
      "metadata": {
        "id": "bNy6V21f76zp"
      }
    },
    {
      "cell_type": "code",
      "source": [
        "#If using a local Python instance\n",
        "\n",
        "#pip install pandas\n",
        "#pip install numpy"
      ],
      "metadata": {
        "id": "KAUTKHH0FTbQ"
      },
      "execution_count": null,
      "outputs": []
    },
    {
      "cell_type": "code",
      "execution_count": null,
      "metadata": {
        "id": "7GIgFuLmwyE6"
      },
      "outputs": [],
      "source": [
        "import pandas as pd\n",
        "import numpy as np"
      ]
    },
    {
      "cell_type": "code",
      "source": [],
      "metadata": {
        "id": "Btm0MSHbxe_G"
      },
      "execution_count": null,
      "outputs": []
    }
  ]
}