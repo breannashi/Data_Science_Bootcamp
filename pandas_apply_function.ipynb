{
  "nbformat": 4,
  "nbformat_minor": 0,
  "metadata": {
    "colab": {
      "provenance": [],
      "authorship_tag": "ABX9TyMGgQNCWvcMVP8QbhLMoOXE",
      "include_colab_link": true
    },
    "kernelspec": {
      "name": "python3",
      "display_name": "Python 3"
    },
    "language_info": {
      "name": "python"
    }
  },
  "cells": [
    {
      "cell_type": "markdown",
      "metadata": {
        "id": "view-in-github",
        "colab_type": "text"
      },
      "source": [
        "<a href=\"https://colab.research.google.com/github/breannashi/Data_Science_Bootcamp/blob/pandas-apply-function/pandas_apply_function.ipynb\" target=\"_parent\"><img src=\"https://colab.research.google.com/assets/colab-badge.svg\" alt=\"Open In Colab\"/></a>"
      ]
    },
    {
      "cell_type": "markdown",
      "source": [
        "**Applying Functions to Dataframes in Pandas:**\n",
        "The apply() function can be used to apply functions to an axis of a dataframe. The applymap() function can be used to apply a function elementwise.\n",
        "\n"
      ],
      "metadata": {
        "id": "psTLA27jyJEL"
      }
    },
    {
      "cell_type": "markdown",
      "source": [
        "## **Apply()**\n",
        "\n",
        "The pandas dataframe defines the function with the following parameters:\n",
        "\n",
        "~~~python\n",
        "def apply( \n",
        "    self,\n",
        "    func,\n",
        "    axis=0,\n",
        "    broadcast=None,\n",
        "    raw=False,\n",
        "    reduce=None,\n",
        "    result_type=None,\n",
        "    args=(),\n",
        "    **kwds\n",
        ")\n",
        "~~~"
      ],
      "metadata": {
        "id": "eJxgQ-ke18a1"
      }
    },
    {
      "cell_type": "markdown",
      "source": [
        "The most important parameters are **func**, the function to be applied, **axis**, where to apply the function, and **args** and **kwargs**, used to pass additional arguments and kew-word arguments to the function. \n",
        "\n",
        "You will need the pandas package when you want to use apply(), and will need the numpy package to complete this tutorial."
      ],
      "metadata": {
        "id": "bNy6V21f76zp"
      }
    },
    {
      "cell_type": "code",
      "source": [
        "#If using a local Python instance\n",
        "\n",
        "#pip install pandas\n",
        "#pip install numpy"
      ],
      "metadata": {
        "id": "KAUTKHH0FTbQ"
      },
      "execution_count": null,
      "outputs": []
    },
    {
      "cell_type": "code",
      "execution_count": 2,
      "metadata": {
        "id": "7GIgFuLmwyE6"
      },
      "outputs": [],
      "source": [
        "import pandas as pd\n",
        "import numpy as np"
      ]
    },
    {
      "cell_type": "code",
      "source": [
        "simple_data = {'A':[1, 2, 3],'B':[10, 20, 30]}\n",
        "simple = pd.DataFrame(simple_data)\n",
        "print(simple)"
      ],
      "metadata": {
        "id": "KHkZBfXSIMqY",
        "colab": {
          "base_uri": "https://localhost:8080/"
        },
        "outputId": "e52902c3-b115-4266-f6f1-8c5259e9cf7d"
      },
      "execution_count": 3,
      "outputs": [
        {
          "output_type": "stream",
          "name": "stdout",
          "text": [
            "   A   B\n",
            "0  1  10\n",
            "1  2  20\n",
            "2  3  30\n"
          ]
        }
      ]
    },
    {
      "cell_type": "markdown",
      "source": [
        "###***Passing a function***\n",
        "\n",
        "Let's make a basic function to apply to our DataFrame. These examples will only use the **func** argument."
      ],
      "metadata": {
        "id": "iJhMXblWIGVK"
      }
    },
    {
      "cell_type": "code",
      "source": [
        "def cube(x):\n",
        "  return x * x * x "
      ],
      "metadata": {
        "id": "Btm0MSHbxe_G"
      },
      "execution_count": null,
      "outputs": []
    },
    {
      "cell_type": "code",
      "source": [
        "cubed_simple = simple.apply(cube)\n",
        "print(cubed_simple)"
      ],
      "metadata": {
        "id": "1_C036DeJPcK"
      },
      "execution_count": null,
      "outputs": []
    },
    {
      "cell_type": "markdown",
      "source": [
        "You can do the same thing by passing a NumPy universal function"
      ],
      "metadata": {
        "id": "7GVwmn6bJgGK"
      }
    },
    {
      "cell_type": "code",
      "source": [
        "cube_root_simple = simple.apply(np.cbrt)\n",
        "print(cube_root_simple)"
      ],
      "metadata": {
        "id": "US7l94iBKAid"
      },
      "execution_count": null,
      "outputs": []
    },
    {
      "cell_type": "markdown",
      "source": [
        "We can apply these sequentially to return to our original data"
      ],
      "metadata": {
        "id": "yKzGFhWBLThO"
      }
    },
    {
      "cell_type": "code",
      "source": [
        "original_simple = simple.apply(cube).apply(np.cbrt)\n",
        "print(original_simple)"
      ],
      "metadata": {
        "colab": {
          "base_uri": "https://localhost:8080/"
        },
        "id": "OE8_30BfLBqs",
        "outputId": "b11e84ea-ac53-4182-b595-c0a04e64e782"
      },
      "execution_count": null,
      "outputs": [
        {
          "output_type": "stream",
          "name": "stdout",
          "text": [
            "     A     B\n",
            "0  1.0  10.0\n",
            "1  2.0  20.0\n",
            "2  3.0  30.0\n"
          ]
        }
      ]
    },
    {
      "cell_type": "markdown",
      "source": [
        "###***Choosing an axis***\n",
        "The default value for axis is 0, which applies across rows of the dataframe. We can set axis to different values to effect columns or the n-th dimension.\n",
        "\n"
      ],
      "metadata": {
        "id": "Ov4m3syDLeqN"
      }
    },
    {
      "cell_type": "code",
      "source": [
        "column_sum = simple.apply(np.sum, axis=0)\n",
        "print(column_sum, '\\n')\n",
        "\n",
        "row_sum = simple.apply(np.sum, axis = 1)\n",
        "print(row_sum)"
      ],
      "metadata": {
        "id": "cr-pw1D5MZge"
      },
      "execution_count": null,
      "outputs": []
    },
    {
      "cell_type": "markdown",
      "source": [
        "###***Using lambda***\n",
        "A **lambda** function is a small, anonymous function that you can use within the **apply()** function.\n",
        "\n",
        "**lambda** takes a set of input variables and performs a calculation.\n",
        "\n",
        "lambda [parameter_list]: [expression]\n",
        "~~~python\n",
        "var = lambda x, y: x * y\n",
        "\n",
        "var(2,4) #returns 8\n",
        "~~~\n",
        "\n",
        "Let's make a function to scale each value by 8."
      ],
      "metadata": {
        "id": "rDMHmYWsJRGd"
      }
    },
    {
      "cell_type": "code",
      "source": [
        "scaled_simple = simple.apply(lambda x: x * 8)\n",
        "print(scaled_simple)"
      ],
      "metadata": {
        "id": "ADY74p8TNWkb"
      },
      "execution_count": null,
      "outputs": []
    },
    {
      "cell_type": "markdown",
      "source": [
        "But the **lambda** function's output/expression does not have to be related to the input, it just needs one. As such, we can replace the values of a dataframe using a **list** or a **Series**. Note the difference in how these apply!"
      ],
      "metadata": {
        "id": "ydjHkUD2VoUF"
      }
    },
    {
      "cell_type": "code",
      "source": [
        "replaced_simple_list = simple.apply(lambda x: [10, 100])\n",
        "\n",
        "replaced_simple_series = simple.apply(lambda x: pd.Series([10, 100], index=['height', 'width']), axis=1)\n",
        "print(replaced_simple_list, replaced_simple_series, sep='\\n\\n')"
      ],
      "metadata": {
        "id": "eCxuMRGeOI3X"
      },
      "execution_count": null,
      "outputs": []
    },
    {
      "cell_type": "markdown",
      "source": [
        "###***Using Arguments***\n",
        "\n",
        "Sometimes the function you are calling will require additional input than the value of the dataframe. You can pass these additonal arguments as a **tuple** and the parameter **args=()**. You can see that here as we scale the data by some factor, y, and adjust it by some factor, z."
      ],
      "metadata": {
        "id": "zd0mvTc2Qqyd"
      }
    },
    {
      "cell_type": "code",
      "source": [
        "def scale_and_adjust(x, y, z):\n",
        "  return x * y + z\n",
        "\n",
        "adjusted_simple = simple.apply(scale_and_adjust, args=(2,1))\n",
        "print(adjusted_simple)"
      ],
      "metadata": {
        "id": "wQIvaYk1Qud-"
      },
      "execution_count": null,
      "outputs": []
    },
    {
      "cell_type": "markdown",
      "source": [
        "###***Using kwargs***\n",
        "\n",
        "Additional arguments can also be passed as keywords, in their own parameter. Here you can see the **kwarg** 'm' being used as a switch in the function 'bamboozal'."
      ],
      "metadata": {
        "id": "mdn3FgExRlwf"
      }
    },
    {
      "cell_type": "code",
      "source": [
        "def bamboozal(x, y, z, m = 0):\n",
        "  if m == 0:\n",
        "    return x * y + z\n",
        "  elif m == 1:\n",
        "    return \"almond\"\n",
        "  else:\n",
        "    return \"invalid 'm' argument\"\n",
        "\n",
        "bamboozaled_simple_1 = simple.apply(bamboozal, args=(2,1))\n",
        "bamboozaled_simple_2 = simple.apply(bamboozal, args=(2,1), m = 1)\n",
        "bamboozaled_simple_3 = simple.apply(bamboozal, args=(2,1), m = 2)\n",
        "\n",
        "print(bamboozaled_simple_1,bamboozaled_simple_2,bamboozaled_simple_3, sep = '\\n\\n')"
      ],
      "metadata": {
        "id": "iCZ0mc12RpWO"
      },
      "execution_count": null,
      "outputs": []
    }
  ]
}