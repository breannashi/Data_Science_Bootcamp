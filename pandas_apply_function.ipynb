{
  "nbformat": 4,
  "nbformat_minor": 0,
  "metadata": {
    "colab": {
      "provenance": [],
      "authorship_tag": "ABX9TyMWhxGiMUrzpyD2AA/GUgdb",
      "include_colab_link": true
    },
    "kernelspec": {
      "name": "python3",
      "display_name": "Python 3"
    },
    "language_info": {
      "name": "python"
    }
  },
  "cells": [
    {
      "cell_type": "markdown",
      "metadata": {
        "id": "view-in-github",
        "colab_type": "text"
      },
      "source": [
        "<a href=\"https://colab.research.google.com/github/breannashi/Data_Science_Bootcamp/blob/pandas-apply-function/pandas_apply_function.ipynb\" target=\"_parent\"><img src=\"https://colab.research.google.com/assets/colab-badge.svg\" alt=\"Open In Colab\"/></a>"
      ]
    },
    {
      "cell_type": "markdown",
      "source": [
        "**Applying Functions to Dataframes in Pandas:**\n",
        "The apply() function can be used to apply functions to an axis of a dataframe. The applymap() function can be used to apply a function elementwise.\n",
        "\n"
      ],
      "metadata": {
        "id": "psTLA27jyJEL"
      }
    },
    {
      "cell_type": "markdown",
      "source": [
        "## **Apply()**\n",
        "\n",
        "The pandas dataframe defines the function with the following parameters:"
      ],
      "metadata": {
        "id": "eJxgQ-ke18a1"
      }
    },
    {
      "cell_type": "code",
      "source": [
        "'''\n",
        "def apply( \n",
        "    self,\n",
        "    func,\n",
        "    axis=0,\n",
        "    broadcast=None,\n",
        "    raw=False,\n",
        "    reduce=None,\n",
        "    result_type=None,\n",
        "    args=(),\n",
        "    **kwds\n",
        ")\n",
        "'''"
      ],
      "metadata": {
        "id": "MdQi8-_F7EUm"
      },
      "execution_count": null,
      "outputs": []
    },
    {
      "cell_type": "markdown",
      "source": [
        "The most important parameters are **func**, the function to be applied, **axis**, where to apply the function, and **args** and **kwargs**, used to pass additional arguments and kew-word arguments to the function. \n",
        "\n",
        "You will need the pandas package when you want to use apply(), and will need the numpy package to complete this tutorial."
      ],
      "metadata": {
        "id": "bNy6V21f76zp"
      }
    },
    {
      "cell_type": "code",
      "source": [
        "#If using a local Python instance\n",
        "\n",
        "#pip install pandas\n",
        "#pip install numpy"
      ],
      "metadata": {
        "id": "KAUTKHH0FTbQ"
      },
      "execution_count": null,
      "outputs": []
    },
    {
      "cell_type": "code",
      "execution_count": 4,
      "metadata": {
        "id": "7GIgFuLmwyE6"
      },
      "outputs": [],
      "source": [
        "import pandas as pd\n",
        "import numpy as np"
      ]
    },
    {
      "cell_type": "code",
      "source": [
        "simple_data = {'A':[1, 2, 3],'B':[10, 20, 30]}\n",
        "simple = pd.DataFrame(simple_data)\n",
        "print(simple)"
      ],
      "metadata": {
        "id": "KHkZBfXSIMqY"
      },
      "execution_count": null,
      "outputs": []
    },
    {
      "cell_type": "markdown",
      "source": [
        "###***Passing a function***\n",
        "\n",
        "Let's make a basic function to apply to our DataFrame. These examples will only use the **func** argument."
      ],
      "metadata": {
        "id": "iJhMXblWIGVK"
      }
    },
    {
      "cell_type": "code",
      "source": [
        "def cube(x):\n",
        "  return x * x * x "
      ],
      "metadata": {
        "id": "Btm0MSHbxe_G"
      },
      "execution_count": 8,
      "outputs": []
    },
    {
      "cell_type": "code",
      "source": [
        "cubed_simple = simple.apply(cube)\n",
        "print(cubed_simple)"
      ],
      "metadata": {
        "id": "1_C036DeJPcK"
      },
      "execution_count": null,
      "outputs": []
    },
    {
      "cell_type": "markdown",
      "source": [
        "You can do the same thing by passing a NumPy function"
      ],
      "metadata": {
        "id": "7GVwmn6bJgGK"
      }
    },
    {
      "cell_type": "code",
      "source": [
        "cube_root_simple = simple.apply(np.cbrt)\n",
        "print(cube_root_simple)"
      ],
      "metadata": {
        "id": "US7l94iBKAid"
      },
      "execution_count": null,
      "outputs": []
    },
    {
      "cell_type": "markdown",
      "source": [
        "We can apply these sequentiall to return to our original data"
      ],
      "metadata": {
        "id": "yKzGFhWBLThO"
      }
    },
    {
      "cell_type": "code",
      "source": [
        "original_simple = simple.apply(cube).apply(np.cbrt)\n",
        "print(original_simple)"
      ],
      "metadata": {
        "colab": {
          "base_uri": "https://localhost:8080/"
        },
        "id": "OE8_30BfLBqs",
        "outputId": "b11e84ea-ac53-4182-b595-c0a04e64e782"
      },
      "execution_count": 16,
      "outputs": [
        {
          "output_type": "stream",
          "name": "stdout",
          "text": [
            "     A     B\n",
            "0  1.0  10.0\n",
            "1  2.0  20.0\n",
            "2  3.0  30.0\n"
          ]
        }
      ]
    },
    {
      "cell_type": "markdown",
      "source": [
        "###***Choosing an axis***\n",
        "The default value for axis is 0, which applies across rows of the dataframe. We can set axis to different values to effect columns or the n-th dimension.\n",
        "\n"
      ],
      "metadata": {
        "id": "Ov4m3syDLeqN"
      }
    },
    {
      "cell_type": "code",
      "source": [
        "column_sum = simple.apply(np.sum, axis=0)\n",
        "print(column_sum, '\\n')\n",
        "\n",
        "row_sum = simple.apply(np.sum, axis = 1)\n",
        "print(row_sum)"
      ],
      "metadata": {
        "id": "cr-pw1D5MZge"
      },
      "execution_count": null,
      "outputs": []
    }
  ]
}