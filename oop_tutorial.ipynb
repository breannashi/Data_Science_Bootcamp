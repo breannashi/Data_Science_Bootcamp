{
  "nbformat": 4,
  "nbformat_minor": 0,
  "metadata": {
    "colab": {
      "provenance": [],
      "authorship_tag": "ABX9TyPNLx9TTJJFKWVG7gfsuSRy",
      "include_colab_link": true
    },
    "kernelspec": {
      "name": "python3",
      "display_name": "Python 3"
    },
    "language_info": {
      "name": "python"
    }
  },
  "cells": [
    {
      "cell_type": "markdown",
      "metadata": {
        "id": "view-in-github",
        "colab_type": "text"
      },
      "source": [
        "<a href=\"https://colab.research.google.com/github/breannashi/Data_Science_Bootcamp/blob/oop-tutorial/oop_tutorial.ipynb\" target=\"_parent\"><img src=\"https://colab.research.google.com/assets/colab-badge.svg\" alt=\"Open In Colab\"/></a>"
      ]
    },
    {
      "cell_type": "markdown",
      "source": [
        "## 1.&nbsp;Introduction\n",
        "\n",
        "Welcome to the object oriented principles tutorial. If you only want the syntax, there are youtube videos. But, we will use a bioinformatics oriented example of creating our own assay for storing genetic data as a motivating example for *why* and *how* object oriented design and implementation should be done so that you can add this to your toolbox straight away."
      ],
      "metadata": {
        "id": "AbRG2uYbn96A"
      }
    },
    {
      "cell_type": "markdown",
      "source": [
        "## 2.&nbsp;Moivating Example\n",
        "\n",
        "As an enterprising bioinformatics researcher, you want to store your genetic data and metadata in a group. But in this notebook world, libraries like Seurat and ScanPy don't exist so you must come up with your own solution. Since you have a lot of cell barcodes (strings) and associated genetic sequences (also strings), you decide to build your own solution. Let's say you have 100 barcodes of length 15 and associated gene information strings of length 500. The barcodes all start with an uppercase letter and can have uppercase, lowercase, and digits. The genes are all strings of 'A', 'C', 'G', 'T'."
      ],
      "metadata": {
        "id": "WuKMtAhUpBZg"
      }
    },
    {
      "cell_type": "code",
      "source": [
        "#just loading text data into lists\n",
        "def read_text(txt_file):\n",
        "    with open(txt_file) as f:\n",
        "        content = f.readlines()\n",
        "        content = [x.strip() for x in content]\n",
        "    return content\n",
        "\n",
        "barcodes = read_text('barcode.txt')\n",
        "genes = read_text('genetic.txt')"
      ],
      "metadata": {
        "id": "KtvuD_VSpEjL"
      },
      "execution_count": 1,
      "outputs": []
    },
    {
      "cell_type": "code",
      "source": [
        "#first few elements of each\n",
        "print(barcodes[:5], '\\n', genes[:5])\n",
        "\n",
        "#length of each\n",
        "print(len(barcodes), len(genes))"
      ],
      "metadata": {
        "colab": {
          "base_uri": "https://localhost:8080/"
        },
        "id": "hsv0s9R_swMF",
        "outputId": "65b16ce6-aca4-407e-f354-38bc511967bb"
      },
      "execution_count": 7,
      "outputs": [
        {
          "output_type": "stream",
          "name": "stdout",
          "text": [
            "['UtSqhRCvncdSLrG', 'GTR0tkOTty8Xcn3', 'OwsFr5S9gCC5x5b', 'PRtPGEsykLiJozZ', 'H3etvvnKWXzJfQA'] \n",
            " ['GTAGTAGTGGAGCCGAAGTAGAGTATTTAGGGTAGGCACGTAACCGAGGGATGCGCAGTTCCCCGAAATCCATGACATTAATCATCTAACCTAAGACTACTACGGGAACGACAGTCTTGATTCTTGCTAGGTTACTTTCGGTGCCAGCTATCTTATGGGGATTTAAACGATTGTTAAGTCGGCTTTCGAACTGACAACGTACGTTAGGTGTGAGAGTAGTCCGCAAGTGGTCAACATGGCGCCTCCTCACGTCGGAGCTGATTTCGAGTTAAGTTGCGTCCCATCGTGTTCAAATATGTGGCAGATTCCAACAACATTATCCATTGCGTTTTACCGATCCGTCACATGTAGCGGGGTATCTGCCGCGGGCCGGCGTTGAAATGCATGAGTCAAGAGTCCCTATGGGGGCTCCGGAAACTATTCACCGACGAATCGCCGACCTGGAGGTTTGATGGTAGGCCACGAGAAAGAGAGCTTACTCGTAGCCGTTAGACAGCTTT', 'GCCAATTGCGGCAATATTTCACACAAACCCTTACGCGCTAAGTGAACAGGGCAAAATTCGAATTTGCTGATAACGCCGGCGGTATCCTCGTAACCTGAAGGACTGTACAACAGGATGACCAAATTGTATGTTGTTTACAAACACTAAAGCGGTGGTATGTTCGCGTGATGAAATCCAGTGAAACTTGTCTAAATATGCGCGCTAAGAAGCATATCGCAGCGCCGGATAGTCGCGCACCCGCCACGCTTGAGGGCGCGATTGCATGTTCCTCCAATGTCTCGTCCAAGAGGATCACAAACTGAACACCAAGATAGTCAAGCCAGATCGCACTCCCATGTGTTGTTATCGTGTGTGAGCCCTGGACACATAGTTGGCCTTAGCAGTCACTTAAAATCACGCAGTGGTACGCGAGGAAGGTAAAAAACGATCGTGCCGCCATCCGTCCTGCAGCTTCTCCGAATCGAACTATACTTGTCCGAGCCGAGAGACGCCGGGGCTGT', 'CTAGTGCTAGACTGAACGAAGGATCCATACATTTCTCCATACAGCCGAAGTCTAGAAGGCGAATAGCCCGGGACGGCGACGAGAACGGTCGTGGCCCACAGCAGCCTATACGTGTGGGACCTGACTGCGTTAACACTCTAAATTACCTAGGAATATATAAGCCTTCCAAGACCAATTCACCTCTGCCTTTACAGTTGTTAACATTTCTTTATATACCCCAACTCTATCGCGGATTCTGGCCGTTGTGAAGGAAGAGGACAACTCGGCTGTTCCGCTGTCGTCGAAACTTTATGCAAACCAAGTACCGAAGGTTGATGCGTTATTGCCATCTCGGGATGCGACCAGTCGGCTGCATGCCAACGCAAGGCATAAAGCGGAGGGCACAGTTGAATCGGTTCCTACTTGTGCAGCACGGCAATCCTGTCTGGTTGCTTTATGTTTGGTAGCTCTCGCCTCCGCAGGACCGCCGTTATGATTCGGGCTTCCTCCTGCGATTCACC', 'GAGAGATTTATAGGGCCATGCCGCGAGCTGTCTATATATTGCGAGTCGCATGACGACGTCTCTGCCCCAGATGTCTCCCAGAGTGTCAATCGCATGACCAACTTACTGCAGCATATTCACCCGAAGCCATCGAGGCAAAAACGGAACACATAAGCCGATTGCTGTTGAAGTGAACCTGCGGCCCTACTGGTCGCTTTCTCTGTAGTTGAGAGAGACTCCACCTGTTCACTTAGGAAAGGGTCAAGCCTCAGACGTCCCCTCCCCTTGAGGATACAACTTTAGTGAAGCGAAGTATGCTGTCGCGGATGGGGTACGGTGCTGCTCGGTTGAAACCCGACTGTTAGTTCCGATTTCCAACAGGTACTCTACTTGAGGGTCTTGTGTATAGCTCCCCAGATATATTATGATGCCGCAGAACAAAGACTCCCACATCTCCTGGGTGCGGGGAGGCCGGCACTTGTCACGGATCGCGGGGACACCCCAGCACCATGTCCCGCCGC', 'TCGCACCTGAAGTCCGCAGCAGACCTAACAAGCATTCCCACCTAGACGCTGTACGATGTCCTAAGCTGTGTGTGAAAACTGTATAGGTCATACGCAGAGGATATCCATATCGCAGGATCAAAGGAACGCGGCACAACTTATCGTCCCCGAAGGAACCGGCAACAGATTAGCGGTTTTCAAAATCAAGTCACCTACCGCCCATGTAGGGGTCCATGTAGCCATATTCATGGAGTAGGAGGTAGTCTTCGAAGGAACCCCTAAGTTCCCACAACGGTACGAACGGCTTAATTATCGTATCTGCTCGCCACCTTCCTGTGTGGTCCAAGCGCCATAATACGTCTTTTCGGGGAGTCAAATGATGATCGGATCTGAATAACTTTTTGAGCCGGTCCCCATGATGTTGTGCCCGGGCAATTGCCGAAACGTCGACCTGCGTCGATTTTTAGGTCCAATGCATATTATCTCGCGCAGTGGTGGCGAGGAGCCTCATTTTCCATTAT']\n",
            "100 100\n"
          ]
        }
      ]
    },
    {
      "cell_type": "markdown",
      "source": [
        "Being the smart researcher you are, you simply say that I will store each barcode and corresponding genes in correponding positions in their respective lists. That way, I can simply reference the correct index for each array to access the appropriate barcode and and gene information. This is what we did above.\n",
        "\n",
        "But what if you find "
      ],
      "metadata": {
        "id": "MjKyKNiltSB1"
      }
    },
    {
      "cell_type": "code",
      "source": [],
      "metadata": {
        "id": "XaF4cMh0txnA"
      },
      "execution_count": null,
      "outputs": []
    }
  ]
}