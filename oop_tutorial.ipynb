{
  "nbformat": 4,
  "nbformat_minor": 0,
  "metadata": {
    "colab": {
      "provenance": [],
      "include_colab_link": true
    },
    "kernelspec": {
      "name": "python3",
      "display_name": "Python 3"
    },
    "language_info": {
      "name": "python"
    }
  },
  "cells": [
    {
      "cell_type": "markdown",
      "metadata": {
        "id": "view-in-github",
        "colab_type": "text"
      },
      "source": [
        "<a href=\"https://colab.research.google.com/github/breannashi/Data_Science_Bootcamp/blob/oop-tutorial/oop_tutorial.ipynb\" target=\"_parent\"><img src=\"https://colab.research.google.com/assets/colab-badge.svg\" alt=\"Open In Colab\"/></a>"
      ]
    },
    {
      "cell_type": "markdown",
      "source": [
        "## 1.&nbsp;Introduction\n",
        "\n",
        "Welcome to the object oriented principles tutorial. We will use a bioinformatics oriented example of creating our own assay for storing genetic data as a motivating example for *why* and *how* object oriented design and implementation should be done so that you can add this to your toolbox straight away."
      ],
      "metadata": {
        "id": "AbRG2uYbn96A"
      }
    },
    {
      "cell_type": "markdown",
      "source": [
        "## 2.&nbsp;Object Oriented Principles\n",
        "\n",
        "You are an enterprising bioinformatics researcher working on genetic data from different cells. Cells are recorded through 10 character alphanumeric barcodes, genes are represented as 100 character strings of 'A', 'G', 'C', and 'T'. Each cell can contain between 0 and 100 counts of each gene. This kind of problem is common in real life and stored through assays. Let's load our data first. We have 100 barcodes, 100 genes, and a 100 * 100 matrix representing counts\n"
      ],
      "metadata": {
        "id": "WuKMtAhUpBZg"
      }
    },
    {
      "cell_type": "code",
      "source": [
        "import numpy as np\n",
        "import pandas as pd"
      ],
      "metadata": {
        "id": "j_seJ0ryF7ue"
      },
      "execution_count": null,
      "outputs": []
    },
    {
      "cell_type": "code",
      "source": [
        "#load barcodes and genes\n",
        "with open('barcodes.txt', 'r') as f:\n",
        "    barcodes = f.read().splitlines()\n",
        "\n",
        "with open('genes.txt', 'r') as f:\n",
        "    genes = f.read().splitlines()\n",
        "\n",
        "#load matrix\n",
        "matrix = np.loadtxt('matrix.csv', delimiter=',')"
      ],
      "metadata": {
        "id": "KtvuD_VSpEjL"
      },
      "execution_count": null,
      "outputs": []
    },
    {
      "cell_type": "markdown",
      "source": [
        "Being a smart researcher, you store the barcodes and genes in lists and matrix as a numpy matrix. As long as you remember to index the correct items, you are okay, right? But what if you or someone else mistakenly removes a barcode but not the corresponding entries from gene list or the count matrix? Now all of your data is unaligned and incorrect. \n",
        "\n",
        "Even if everyone is extra careful, what if you have multiple samples? Will you create lists and matrices for each sample? What if you want to store metadata like date of update, test condition, etc? What if you want to do common processes like getting total of each gene? Will you write a loop for each sample?\n",
        "\n",
        "Clearly, this approach is fragile and not scalable. What if there was a way to package all of this information, metadata, and behaviors into a container. Well, dear reader, that is what an object is. Just as real life objects have properties (a *red* bag) and behaviors (*open* a bag), software objects package properties and behaviors. Better yet, just like real life, you can define a template that you can use repeatedly. After all, bags or assays, all objects are fundamentally similar. Let's do this. \n",
        "\n",
        "\n"
      ],
      "metadata": {
        "id": "MjKyKNiltSB1"
      }
    },
    {
      "cell_type": "code",
      "source": [
        "class assay:\n",
        "\n",
        "    def __init__(self, barcodes, genes, matrix, update_date, experiment_condition):\n",
        "        #createt a dataframe from the matrix where columns are genes and rows are barcodes\n",
        "        self.gene_matrix = pd.DataFrame(matrix, index=barcodes, columns=genes)\n",
        "        self.update_date = update_date\n",
        "        self.experiment_condition = experiment_condition\n",
        "\n",
        "    \"\"\"\n",
        "    Returns a cell with the given barcode. If the cell does not exist, None is returned.\n",
        "    \"\"\"\n",
        "    def get_cell(self, barcode):\n",
        "        if barcode in self.gene_matrix.index:\n",
        "            return self.gene_matrix.loc[barcode]\n",
        "\n",
        "    \"\"\"\n",
        "    Updates a cell with new gene counts. If the cell does not exist, it is created.\n",
        "    \"\"\"\n",
        "    def update_cell(self, barcode, gene_expression):\n",
        "        self.gene_matrix.loc[barcode] = gene_expression\n",
        "    \n",
        "    \"\"\"\n",
        "    Removes and returns a cell with the given barcode. If the cell does not exist, None is returned.\n",
        "    \"\"\"\n",
        "    def remove_cell(self, barcode):\n",
        "        if barcode in self.gene_matrix.index:\n",
        "            return self.gene_matrix.drop(barcode)\n",
        "\n",
        "    \"\"\"\n",
        "    Get total gene count for a given gene. If the gene does not exist, None is returned.\n",
        "    \"\"\"\n",
        "    def get_gene_count(self, gene):\n",
        "        if gene in self.gene_matrix.columns:\n",
        "            return self.gene_matrix[gene].sum()\n",
        "\n",
        "    def plot_gene(self, gene):\n",
        "        if gene in self.gene_matrix.columns:\n",
        "            return self.gene_matrix[gene].plot()"
      ],
      "metadata": {
        "id": "XaF4cMh0txnA"
      },
      "execution_count": null,
      "outputs": []
    },
    {
      "cell_type": "markdown",
      "source": [
        "Below, I create a new assay object and do some operations. It will show you results of thhe last one but if you want to see each, create new cells and shift instructions around. As an exercise, you can create your own object and do fun things!\n",
        "\n",
        "**Note:** You will see that I do not have any logic to enforce date consistency, logic checking for length of gene inputs, etc. My goal here is not to show error handling and edge case detection. That comes with practice. I want to show you the big ideas of OOP: encapsulation, inheritance, and polymorphism. We got the first one down. Onto the rest."
      ],
      "metadata": {
        "id": "yd5LXqUsKLpx"
      }
    },
    {
      "cell_type": "code",
      "source": [
        "#now i will create an assay object\n",
        "my_assay = assay(barcodes, genes, matrix, '2020-01-01', 'control')\n",
        "\n",
        "#generate a list of 100 numbers between 0 and 100\n",
        "import random\n",
        "gene_expression = [random.randint(0,100) for i in range(100)]\n",
        "#now i will test the functions\n",
        "my_assay.get_cell('a1b2c3d4e5')\n",
        "my_assay.update_cell('a1b2c3d4e5', gene_expression)\n",
        "my_assay.remove_cell('a1b2c3d4e5')"
      ],
      "metadata": {
        "id": "_qMVgQTNJdpi"
      },
      "execution_count": null,
      "outputs": []
    },
    {
      "cell_type": "markdown",
      "source": [
        "## 3.&nbsp; Inheritance and Polymorphism"
      ],
      "metadata": {
        "id": "cmi3dorHJlrs"
      }
    },
    {
      "cell_type": "markdown",
      "source": [
        "I would like to introduce you all to the concept of inheritance. In biology, inheritance is the transfer of genetic characteristics from one generation to the next. It alludes to how genes are passed down from one generation to the next. These genes hold the genetic material that is inherited by offspring and passed on to them. The similarity in traits between parents and their offspring can be attributed to inheritance. \n",
        "\n",
        "Similarly, Object Oriented Programming also has the concept of Inheritance which works along similar lines. \n",
        "Inheritance lets a class inherit all the methods and properties from another class.\n",
        "\n",
        "Parent class also known as base class has the methods and properties that another class inherits\n",
        "\n",
        "Child class is the one that inherits from the parent class, also called derived class. "
      ],
      "metadata": {
        "id": "rCuH2OyVVcFc"
      }
    },
    {
      "cell_type": "code",
      "source": [
        "class Parent:\n",
        "  def __init__(self, fname, lname):\n",
        "    self.firstname = fname\n",
        "    self.lastname = lname\n",
        "\n",
        "  def pname(self):\n",
        "    print(self.firstname, self.lastname)\n",
        "\n",
        "\n",
        "x = Parent(\"Francis\", \"Crick\")\n",
        "x.pname()"
      ],
      "metadata": {
        "id": "tWIDcTS1Jp9m",
        "colab": {
          "base_uri": "https://localhost:8080/"
        },
        "outputId": "aa00c8cc-c664-434e-81ff-0d4e55824880"
      },
      "execution_count": 4,
      "outputs": [
        {
          "output_type": "stream",
          "name": "stdout",
          "text": [
            "Francis Crick\n"
          ]
        }
      ]
    },
    {
      "cell_type": "markdown",
      "source": [
        "Now that we have defined our parent class , lets go ahead and create our child class."
      ],
      "metadata": {
        "id": "v28BXO1hay3X"
      }
    },
    {
      "cell_type": "code",
      "source": [
        "class Child(Parent):\n",
        "  pass"
      ],
      "metadata": {
        "id": "CAE3Y0Kza8Q1"
      },
      "execution_count": 5,
      "outputs": []
    },
    {
      "cell_type": "markdown",
      "source": [
        "Now lets use the print function but this time from the Child class."
      ],
      "metadata": {
        "id": "m2SUwzvZbMgE"
      }
    },
    {
      "cell_type": "code",
      "source": [
        "y = Child(\"Rosalind\",\"Franklin\")\n",
        "y.pname()"
      ],
      "metadata": {
        "id": "eRg1XHrDbRvT",
        "outputId": "311f5312-f8ca-441d-ba3f-16e67db1fb2b",
        "colab": {
          "base_uri": "https://localhost:8080/"
        }
      },
      "execution_count": 6,
      "outputs": [
        {
          "output_type": "stream",
          "name": "stdout",
          "text": [
            "Rosalind Franklin\n"
          ]
        }
      ]
    }
  ]
}