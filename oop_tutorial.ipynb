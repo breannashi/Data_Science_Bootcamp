{
  "nbformat": 4,
  "nbformat_minor": 0,
  "metadata": {
    "colab": {
      "provenance": [],
      "authorship_tag": "ABX9TyOQiqIDF/m9iD2rkqtg9D2K",
      "include_colab_link": true
    },
    "kernelspec": {
      "name": "python3",
      "display_name": "Python 3"
    },
    "language_info": {
      "name": "python"
    }
  },
  "cells": [
    {
      "cell_type": "markdown",
      "metadata": {
        "id": "view-in-github",
        "colab_type": "text"
      },
      "source": [
        "<a href=\"https://colab.research.google.com/github/breannashi/Data_Science_Bootcamp/blob/oop-tutorial/oop_tutorial.ipynb\" target=\"_parent\"><img src=\"https://colab.research.google.com/assets/colab-badge.svg\" alt=\"Open In Colab\"/></a>"
      ]
    },
    {
      "cell_type": "markdown",
      "source": [
        "## 1.&nbsp;Introduction\n",
        "\n",
        "Welcome to the object oriented principles tutorial. If you only want the syntax, there are youtube videos. But, we will use a bioinformatics oriented example of creating our own assay for storing genetic data as a motivating example for *why* and *how* object oriented design and implementation should be done so that you can add this to your toolbox straight away."
      ],
      "metadata": {
        "id": "AbRG2uYbn96A"
      }
    },
    {
      "cell_type": "markdown",
      "source": [
        "## 2.&nbsp;Moivating Example\n",
        "\n",
        "As an enterprising bioinformatics researcher, you want to store your genetic data and metadata in a group. But in this notebook world, libraries like Seurat and ScanPy don't exist so you must come up with your own solution. Since you have a lot of cell barcodes (strings) and associated genetic sequences (also strings), you decide to build your own solution. Let's say you have 100 barcodes of length 15 and associated gene information strings of length 500. The barcodes all start with an uppercase letter and can have uppercase, lowercase, and digits. The genes are all strings of 'A', 'C', 'G', 'T'."
      ],
      "metadata": {
        "id": "WuKMtAhUpBZg"
      }
    },
    {
      "cell_type": "code",
      "source": [
        "#just loading text data into lists\n",
        "def read_text(txt_file):\n",
        "    with open(txt_file) as f:\n",
        "        content = f.readlines()\n",
        "        content = [x.strip() for x in content]\n",
        "    return content\n",
        "\n",
        "barcodes = read_text('barcode.txt')\n",
        "genes = read_text('genetic.txt')"
      ],
      "metadata": {
        "id": "KtvuD_VSpEjL"
      },
      "execution_count": 1,
      "outputs": []
    },
    {
      "cell_type": "code",
      "source": [
        "#first few elements of each\n",
        "print(barcodes[:5], '\\n', genes[:5])\n",
        "\n",
        "#length of each\n",
        "print(len(barcodes), len(genes))"
      ],
      "metadata": {
        "id": "hsv0s9R_swMF"
      },
      "execution_count": null,
      "outputs": []
    },
    {
      "cell_type": "markdown",
      "source": [
        "Being the smart researcher you are, you simply say that I will store each barcode and corresponding genes in correponding positions in their respective lists. That way, I can simply reference the correct index for each array to access the appropriate barcode and and gene information. This is what we did above.\n",
        "\n",
        "But what if you find a bad sample at index 201 and need to remove it? There are two problems:\n",
        "\n",
        "\n",
        "1.   If someone else has remember 201 as the index for the data they will need for their work, they will now get the wrong data and wrong results\n",
        "2.   Assay data in real life gets quite large and it can be inefficient to readjust lists all the time\n",
        "\n",
        "So you think and decide to use a map or dictionary to store barcode -> gene information directly. This way everyone stores the right barcode even if there is deletion or modification and updates are efficient. Let's do this.\n",
        "\n"
      ],
      "metadata": {
        "id": "MjKyKNiltSB1"
      }
    },
    {
      "cell_type": "code",
      "source": [
        "#creating a dictionary to store data directly \n",
        "gene_dict = dict(zip(barcodes, genes))\n",
        "\n",
        "#now see a direct access example\n",
        "gene_dict['UtSqhRCvncdSLrG']"
      ],
      "metadata": {
        "id": "XaF4cMh0txnA"
      },
      "execution_count": null,
      "outputs": []
    },
    {
      "cell_type": "markdown",
      "source": [
        "This is better but what if you want to store metadata like date of collection, sample group, etc.? What if you want to prevent direct access to this data to prevent corruption and enforce some gatekeeping and easy modification and subsetting?\n",
        "\n",
        "**Behold the power of OOP**. Just like you have a bag object in real life with properties like a number of chambers, color, and price as well as uses like \"storing things\", we can have software objects that simulate real life and have properties and functions. How do we store data in Python? How do we define behavior? You know the answers already but how do we group these together? More importantly, all bags are the same in a fundamental way so is there a way for us to define a template for a software object that defines fundamental behavior? Yes! It's called a \"class\". Look below."
      ],
      "metadata": {
        "id": "ZiRb2tbTvcSk"
      }
    },
    {
      "cell_type": "code",
      "source": [
        "class Assay:\n",
        "    pass"
      ],
      "metadata": {
        "id": "ayfEbGsVwcAO"
      },
      "execution_count": null,
      "outputs": []
    }
  ]
}