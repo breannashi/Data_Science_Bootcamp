{
  "nbformat": 4,
  "nbformat_minor": 0,
  "metadata": {
    "colab": {
      "provenance": [],
      "authorship_tag": "ABX9TyNDnZVBA+QIst8L8Iy5Nk7J",
      "include_colab_link": true
    },
    "kernelspec": {
      "name": "python3",
      "display_name": "Python 3"
    },
    "language_info": {
      "name": "python"
    }
  },
  "cells": [
    {
      "cell_type": "markdown",
      "metadata": {
        "id": "view-in-github",
        "colab_type": "text"
      },
      "source": [
        "<a href=\"https://colab.research.google.com/github/breannashi/Data_Science_Bootcamp/blob/intro-python-tutorial/Intro_Python_Workbook.ipynb\" target=\"_parent\"><img src=\"https://colab.research.google.com/assets/colab-badge.svg\" alt=\"Open In Colab\"/></a>"
      ]
    },
    {
      "cell_type": "markdown",
      "source": [
        "##Introduction to Python"
      ],
      "metadata": {
        "id": "QxTMx1XMYlXK"
      }
    },
    {
      "cell_type": "markdown",
      "source": [
        "This tutorial will introduce you to the basics of python"
      ],
      "metadata": {
        "id": "nw1sAjjhY1bD"
      }
    },
    {
      "cell_type": "markdown",
      "source": [
        "# 1. Python Objects"
      ],
      "metadata": {
        "id": "LzZTJAg1Y53H"
      }
    },
    {
      "cell_type": "markdown",
      "source": [
        "There are many different types of objects in python. Some we will use are:\n",
        "\n",
        "Strings\n",
        "* A collection of letters or words, like the sentence \"I have 2 cats\". They are marked with \"\", and cannot be used in equations\n",
        "\n",
        "Integers\n",
        "* Numbers that don't have decimals. Can be used in equations\n",
        "\n",
        "Floats\n",
        "* Numbers with decimals, can be used in equations\n",
        "\n",
        "You can sometimes switch in between different object types. For example, if you have the string, \"3\", you can convert it to an integer using the int() function. Well get more into functions later.\n",
        "\n"
      ],
      "metadata": {
        "id": "dvEhUw3FZWfR"
      }
    },
    {
      "cell_type": "code",
      "source": [],
      "metadata": {
        "id": "9iLdSYBFZp9W"
      },
      "execution_count": null,
      "outputs": []
    }
  ]
}